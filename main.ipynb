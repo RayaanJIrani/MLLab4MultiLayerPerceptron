{
 "cells": [
  {
   "cell_type": "markdown",
   "metadata": {
    "pycharm": {
     "name": "#%% md\n"
    }
   },
   "source": [
    "# Lab Four: Multi-Layer Perceptron\n",
    "By Saaketh Koka, Vedant Nilabh, and Rayaan Irani \n",
    "\n",
    "In this lab, we will make a multi-layer perceptron (a type of Neural Network) which takes in data provided by the US Census Bearueau on a county-wide basis to determine the child poverty level in the county. "
   ]
  },
  {
   "cell_type": "markdown",
   "metadata": {
    "pycharm": {
     "name": "#%% md\n"
    }
   },
   "source": [
    "## Load, Split, and Balance"
   ]
  },
  {
   "cell_type": "code",
   "execution_count": 2,
   "metadata": {
    "pycharm": {
     "name": "#%%\n"
    }
   },
   "outputs": [],
   "source": [
    "#Import statements for the program \n",
    "import pandas as pd\n",
    "import numpy as np\n",
    "import matplotlib.pyplot as plt\n",
    "import os \n",
    "from sklearn import preprocessing\n",
    "from sklearn.model_selection import train_test_split\n",
    "from sklearn.metrics import accuracy_score\n",
    "import warnings\n",
    "warnings.filterwarnings('ignore')"
   ]
  },
  {
   "cell_type": "code",
   "execution_count": 3,
   "metadata": {},
   "outputs": [
    {
     "name": "stdout",
     "output_type": "stream",
     "text": [
      "Median number of census tracts per county: 9.0\n",
      "Mean number of census tracts per county: 37.21494370522006\n"
     ]
    },
    {
     "data": {
      "image/png": "[encoded data removed]",
      "text/plain": [
       "<Figure size 432x288 with 1 Axes>"
      ]
     },
     "metadata": {
      "needs_background": "light"
     },
     "output_type": "display_data"
    }
   ],
   "source": [
    "#Loads in all of the data into a Pandas Data Frame\n",
    "df = pd.read_csv(\"acs2017_census_tract_data.csv\")\n",
    "\n",
    "df.dropna(inplace=True) #Removes rows that have missing values \n",
    "\n",
    "#This converts all of the string values into numerical values\n",
    "le = preprocessing.LabelEncoder()\n",
    "df['State'] = le.fit_transform(df['State'])\n",
    "df['County'] = le.fit_transform(df['County'])\n",
    "\n",
    "counts = list(df[\"County\"].groupby(df[\"County\"]).count())\n",
    "plt.hist(counts, bins = 20)\n",
    "plt.title(\"Number of Census Tracts per County\")\n",
    "plt.xlabel(\"Number of Census Tracts\")\n",
    "plt.ylabel(\"Number of Counties\")\n",
    "\n",
    "#Shows the median number of census tracts per county\n",
    "print(\"Median number of census tracts per county: \" + str(np.median(counts)))\n",
    "\n",
    "#Shows the mean number of census tracts per county\n",
    "print(\"Mean number of census tracts per county: \" + str(np.mean(counts)))\n"
   ]
  },
  {
   "cell_type": "markdown",
   "metadata": {},
   "source": [
    "Counites should be kept as a feature. This is becuase counties like states play a role in funding poverty relief programs. The extent to which these programs are funded is a result of the relative wealth of the county (as most county tax revenue is derived from property taxes). Due to this, it is possible that two census tracks that are very similar in other data types may differ greatly in poverty levels because one is surronded by a richer area and thus gets more county funding and the other does not. "
   ]
  },
  {
   "cell_type": "code",
   "execution_count": 4,
   "metadata": {},
   "outputs": [
    {
     "data": {
      "text/plain": [
       "Text(0, 0.5, 'Number of Census Tracts')"
      ]
     },
     "execution_count": 4,
     "metadata": {},
     "output_type": "execute_result"
    },
    {
     "data": {
      "image/png": "[encoded data removed]",
      "text/plain": [
       "<Figure size 432x288 with 1 Axes>"
      ]
     },
     "metadata": {
      "needs_background": "light"
     },
     "output_type": "display_data"
    }
   ],
   "source": [
    "# Create histogram of child poverty rates\n",
    "plt.hist(df[\"ChildPoverty\"], bins = 20)\n",
    "plt.title(\"Child Poverty Rates\")\n",
    "plt.xlabel(\"Child Poverty Rate\")\n",
    "plt.ylabel(\"Number of Census Tracts\")\n"
   ]
  },
  {
   "cell_type": "markdown",
   "metadata": {},
   "source": [
    "As can seen by the chart, the child poverty rates amongst census tracks do not follow a uniform or Gausian distribution. The data shows a mode near zero with the number of census tracks suffering a higher rates falling steadly from there. Due to the data being monomodal, there is no clear points to split the data into classes from Child Poverty Rates themselves. For this reason, we are spliting the data into classes each with an equal number of census tracks. This will allow us to use the full dataset for training and testing instead of having to throw away data to keep the classes balanced."
   ]
  },
  {
   "cell_type": "code",
   "execution_count": 5,
   "metadata": {},
   "outputs": [],
   "source": [
    "# Discreatizing the Unemployment Variable into 4 classes, 0,1,2,3\n",
    "classes = pd.qcut(df['ChildPoverty'], 4, labels = [0,1,2,3])\n",
    "df['ChildPoverty'] = classes\n",
    "\n",
    "# Dropping the TractId column because it is useless for our model\n",
    "df.drop('TractId', axis = 1, inplace = True)\n",
    "\n",
    "\n",
    "# Splitting the data so that each set has almost an equal number of each class\n",
    "X_train, X_test, y_train, y_test = train_test_split(df.drop('ChildPoverty', axis = 1), df['ChildPoverty'], test_size = 0.2, stratify = df['ChildPoverty'])\n",
    "\n",
    "# Converting the data into numpy arrays\n",
    "X_train = np.array(X_train)\n",
    "y_train = np.array(y_train)\n",
    "X_test = np.array(X_test)\n",
    "y_test = np.array(y_test)"
   ]
  },
  {
   "cell_type": "markdown",
   "metadata": {
    "pycharm": {
     "name": "#%% md\n"
    }
   },
   "source": [
    "## Initial Modeling"
   ]
  },
  {
   "cell_type": "code",
   "execution_count": 6,
   "metadata": {},
   "outputs": [],
   "source": [
    "# Example adapted from https://github.com/rasbt/python-machine-learning-book/blob/master/code/ch12/ch12.ipynb\n",
    "# Original Author: Sebastian Raschka\n",
    "\n",
    "# This is the optional book we use in the course, excellent intuitions and straightforward programming examples\n",
    "# please note, however, that this code has been manipulated to reflect our assumptions and notation.\n",
    "import numpy as np\n",
    "from scipy.special import expit\n",
    "import pandas as pd\n",
    "import sys\n",
    "\n",
    "# start with a simple base classifier, which can't be fit or predicted\n",
    "# it only has internal classes to be used by classes that will subclass it\n",
    "class TwoLayerPerceptronBase(object):\n",
    "    def __init__(self, n_hidden=30,\n",
    "                 C=0.0, epochs=500, eta=0.001, random_state=None,\n",
    "                 alpha=0.0, decrease_const=0.0, shuffle=True,\n",
    "                 minibatches=1):\n",
    "        np.random.seed(random_state)\n",
    "        self.n_hidden = n_hidden\n",
    "        self.l2_C = C\n",
    "        self.epochs = epochs\n",
    "        self.eta = eta\n",
    "        # Mini Batch params:\n",
    "        self.alpha = alpha\n",
    "        self.decrease_const = decrease_const\n",
    "        self.shuffle = shuffle\n",
    "        self.minibatches = minibatches\n",
    "\n",
    "        \n",
    "    @staticmethod\n",
    "    def _encode_labels(y):\n",
    "        \"\"\"Encode labels into one-hot representation\"\"\"\n",
    "        onehot = pd.get_dummies(y).values.T\n",
    "            \n",
    "        return onehot\n",
    "\n",
    "    def _initialize_weights(self):\n",
    "        \"\"\"Initialize weights Glorot and He normalization.\"\"\"\n",
    "        init_bound = 4*np.sqrt(6. / (self.n_hidden + self.n_features_))\n",
    "        W1 = np.random.uniform(-init_bound, init_bound,(self.n_hidden, self.n_features_))\n",
    "\n",
    "        # reduce the final layer magnitude in order to balance the size of the gradients\n",
    "        # between \n",
    "        init_bound = 4*np.sqrt(6 / (self.n_output_ + self.n_hidden))\n",
    "        W2 = np.random.uniform(-init_bound, init_bound,(self.n_output_, self.n_hidden)) \n",
    "        \n",
    "        b1 = np.zeros((self.n_hidden, 1))\n",
    "        b2 = np.zeros((self.n_output_, 1))\n",
    "        \n",
    "        return W1, W2, b1, b2\n",
    "    \n",
    "    @staticmethod\n",
    "    def _sigmoid(z):\n",
    "        \"\"\"Use scipy.special.expit to avoid overflow\"\"\"\n",
    "        # 1.0 / (1.0 + np.exp(-z))\n",
    "        return expit(z)\n",
    "    \n",
    "    \n",
    "    @staticmethod\n",
    "    def _L2_reg(lambda_, W1, W2):\n",
    "        \"\"\"Compute L2-regularization cost\"\"\"\n",
    "        # only compute for non-bias terms\n",
    "        return (lambda_/2.0) * np.sqrt(np.mean(W1[:, 1:] ** 2) + np.mean(W2[:, 1:] ** 2))\n",
    "    \n",
    "    def _cost(self,A3,Y_enc,W1,W2):\n",
    "        '''Get the objective function value'''\n",
    "        cost = -np.mean(np.nan_to_num((Y_enc*np.log(A3)+(1-Y_enc)*np.log(1-A3))))\n",
    "        L2_term = self._L2_reg(self.l2_C, W1, W2)\n",
    "        return cost + L2_term\n",
    "    \n",
    "    def _feedforward(self, X, W1, W2, b1, b2):\n",
    "        \"\"\"Compute feedforward step\n",
    "        -----------\n",
    "        X : Input layer with original features.\n",
    "        W1: Weight matrix for input layer -> hidden layer.\n",
    "        W2: Weight matrix for hidden layer -> output layer.\n",
    "        ----------\n",
    "        a1-a3 : activations into layer (or output layer)\n",
    "        z1-z2 : layer inputs \n",
    "\n",
    "        \"\"\"\n",
    "        A1 = X.T\n",
    "        Z1 = W1 @ A1 + b1\n",
    "        A2 = self._sigmoid(Z1)\n",
    "        Z2 = W2 @ A2 + b2\n",
    "        A3 = self._sigmoid(Z2)\n",
    "        return A1, Z1, A2, Z2, A3\n",
    "    \n",
    "    def _get_gradient(self, A1, A2, A3, Z1, Z2, Y_enc, W1, W2):\n",
    "        \"\"\" Compute gradient step using backpropagation.\n",
    "        \"\"\"\n",
    "        # vectorized backpropagation\n",
    "        V2 = (A3-Y_enc) # <- this is only line that changed\n",
    "        V1 = A2*(1-A2)*(W2.T @ V2)\n",
    "        \n",
    "        gradW2 = V2 @ A2.T\n",
    "        gradW1 = V1 @ A1.T\n",
    "        \n",
    "        gradb2 = np.sum(V2, axis=1).reshape((-1,1))\n",
    "        gradb1 = np.sum(V1, axis=1).reshape((-1,1))\n",
    "        \n",
    "        # regularize weights that are not bias terms\n",
    "        gradW1 += W1 * self.l2_C\n",
    "        gradW2 += W2 * self.l2_C\n",
    "\n",
    "        return gradW1, gradW2, gradb1, gradb2\n",
    "    \n",
    "    def predict(self, X):\n",
    "        \"\"\"Predict class labels\"\"\"\n",
    "        _, _, _, _, A3 = self._feedforward(X, self.W1, self.W2, self.b1, self.b2)\n",
    "        y_pred = np.argmax(A3, axis=0)\n",
    "        return y_pred\n",
    "    def fit(self, X, y, print_progress=False, XY_test=None):\n",
    "        \"\"\" Learn weights from training data. With mini-batch\"\"\"\n",
    "        X_data, y_data = X.copy(), y.copy()\n",
    "        Y_enc = self._encode_labels(y)\n",
    "        \n",
    "        # init weights and setup matrices\n",
    "        self.n_features_ = X_data.shape[1]\n",
    "        self.n_output_ = Y_enc.shape[0]\n",
    "        self.W1, self.W2, self.b1, self.b2 = self._initialize_weights()\n",
    "\n",
    "        # start momentum at zero for previous updates\n",
    "        rho_W1_prev = np.zeros(self.W1.shape) # for momentum\n",
    "        rho_W2_prev = np.zeros(self.W2.shape) # for momentum\n",
    "\n",
    "        self.cost_ = []\n",
    "        self.score_ = []\n",
    "        # get starting acc\n",
    "        self.score_.append(accuracy_score(y_data,self.predict(X_data)))\n",
    "        # keep track of validation, if given\n",
    "        if XY_test is not None:\n",
    "            X_test = XY_test[0].copy()\n",
    "            y_test = XY_test[1].copy()\n",
    "            self.val_score_ = []\n",
    "            self.val_score_.append(accuracy_score(y_test,self.predict(X_test)))\n",
    "            \n",
    "        for i in range(self.epochs):\n",
    "\n",
    "            # adaptive learning rate\n",
    "            # \\frac{\\eta}{1+\\epsilon\\cdot k}\n",
    "            eta = self.eta / (1 + self.decrease_const*i)\n",
    "\n",
    "            if print_progress>0 and (i+1)%print_progress==0:\n",
    "                sys.stderr.write('\\rEpoch: %d/%d' % (i+1, self.epochs))\n",
    "                sys.stderr.flush()\n",
    "\n",
    "            if self.shuffle:\n",
    "                idx_shuffle = np.random.permutation(y_data.shape[0])\n",
    "                X_data, Y_enc, y_data = X_data[idx_shuffle], Y_enc[:, idx_shuffle], y_data[idx_shuffle]\n",
    "\n",
    "            mini = np.array_split(range(y_data.shape[0]), self.minibatches)\n",
    "            mini_cost = []\n",
    "            for idx in mini:\n",
    "                # feedforward\n",
    "                A1, Z1, A2, Z2, A3 = self._feedforward(X_data[idx],\n",
    "                                                       self.W1,\n",
    "                                                       self.W2,\n",
    "                                                       self.b1,\n",
    "                                                       self.b2\n",
    "                                                      )\n",
    "                \n",
    "                cost = self._cost(A3,Y_enc[:, idx],self.W1,self.W2)\n",
    "                mini_cost.append(cost) # this appends cost of mini-batch only\n",
    "\n",
    "                # compute gradient via backpropagation\n",
    "                gradW1, gradW2, gradb1, gradb2 = self._get_gradient(A1=A1, A2=A2, A3=A3, Z1=Z1, Z2=Z2, \n",
    "                                                  Y_enc=Y_enc[:, idx],\n",
    "                                                  W1=self.W1,W2=self.W2)\n",
    "\n",
    "                # momentum calculations\n",
    "                rho_W1, rho_W2 = eta * gradW1, eta * gradW2\n",
    "                self.W1 -= (rho_W1 + (self.alpha * rho_W1_prev)) # update with momentum\n",
    "                self.W2 -= (rho_W2 + (self.alpha * rho_W2_prev)) # update with momentum\n",
    "                self.b1 -= eta * gradb1\n",
    "                self.b2 -= eta * gradb2\n",
    "                rho_W1_prev, rho_W2_prev = rho_W1, rho_W2\n",
    "                \n",
    "\n",
    "            self.cost_.append(mini_cost)\n",
    "            self.score_.append(accuracy_score(y_data,self.predict(X_data)))\n",
    "            if XY_test is not None:\n",
    "                self.val_score_.append(accuracy_score(y_test,self.predict(X_test)))\n",
    "            \n",
    "        return self"
   ]
  },
  {
   "cell_type": "code",
   "execution_count": 7,
   "metadata": {},
   "outputs": [
    {
     "name": "stderr",
     "output_type": "stream",
     "text": [
      "Epoch: 100/100"
     ]
    },
    {
     "data": {
      "text/plain": [
       "<__main__.TwoLayerPerceptronBase at 0x7fb51e6718e0>"
      ]
     },
     "execution_count": 7,
     "metadata": {},
     "output_type": "execute_result"
    }
   ],
   "source": [
    "hyper_params = {'n_hidden': 30,\n",
    "            'C': 0.1, 'epochs': 100, 'eta': 0.001,\n",
    "            'alpha': 0.001, 'decrease_const': 1e-5, 'minibatches': 50,\n",
    "            'shuffle': True, 'random_state': 1}\n",
    "model1 = TwoLayerPerceptronBase(**hyper_params)\n",
    "model1.fit(X_train,y_train,print_progress=1,XY_test=(X_test,y_test))\n"
   ]
  },
  {
   "cell_type": "code",
   "execution_count": 8,
   "metadata": {},
   "outputs": [
    {
     "name": "stdout",
     "output_type": "stream",
     "text": [
      "Test accuracy: 24.99%\n",
      "Value Counts of classes predicted: \n",
      "1    14541\n",
      "0        3\n",
      "dtype: int64\n"
     ]
    },
    {
     "data": {
      "image/png": "[encoded data removed]",
      "text/plain": [
       "<Figure size 432x288 with 1 Axes>"
      ]
     },
     "metadata": {
      "needs_background": "light"
     },
     "output_type": "display_data"
    }
   ],
   "source": [
    "y_pred = model1.predict(X_test)\n",
    "print('Test accuracy: %.2f%%' % (accuracy_score(y_test, y_pred)*100))\n",
    "# print out the value counts of each item in y_pred:\n",
    "print(\"Value Counts of classes predicted: \")\n",
    "print(pd.Series(y_pred).value_counts())\n",
    "cost_avgs = np.mean(model1.cost_,axis=1)\n",
    "plt.plot(range(len(cost_avgs)), cost_avgs, color='red')\n",
    "plt.ylabel('Cost')\n",
    "plt.xlabel('Epochs')\n",
    "plt.title('Cost vs Epochs')\n",
    "plt.show()"
   ]
  },
  {
   "cell_type": "markdown",
   "metadata": {},
   "source": [
    "This model is run without any scaling or one-hot encoding of the features. While the cost decreases slightly over the 100 epochs, the accuracy is very low. When testing the model, the model almost excusivley predicts a certain class for all of the data suggesting that the model is training to simply predict a certain class. Hopefully scaling the feature data can fix this issue."
   ]
  },
  {
   "cell_type": "code",
   "execution_count": 9,
   "metadata": {},
   "outputs": [
    {
     "name": "stderr",
     "output_type": "stream",
     "text": [
      "Epoch: 100/100"
     ]
    },
    {
     "data": {
      "text/plain": [
       "<__main__.TwoLayerPerceptronBase at 0x7fb53a6acac0>"
      ]
     },
     "execution_count": 9,
     "metadata": {},
     "output_type": "execute_result"
    }
   ],
   "source": [
    "# Scaling the feature data that is fit X_train data\n",
    "from sklearn.preprocessing import StandardScaler\n",
    "scaler = StandardScaler()\n",
    "X_train_scl = X_train.copy()\n",
    "X_test_scl = X_test.copy()\n",
    "\n",
    "X_train_scl[:,2:] = scaler.fit_transform(X_train[:,2:])\n",
    "X_test_scl[:,2:] = scaler.fit_transform(X_test[:,2:])\n",
    "\n",
    "# Running with the same hyperparameters as above\n",
    "model2 = TwoLayerPerceptronBase(**hyper_params)\n",
    "model2.fit(X_train_scl,y_train,print_progress=1,XY_test=(X_test_scl,y_test))"
   ]
  },
  {
   "cell_type": "code",
   "execution_count": 10,
   "metadata": {
    "collapsed": false
   },
   "outputs": [
    {
     "data": {
      "text/plain": [
       "array([[ 9.00000000e+00,  5.83000000e+02,  1.70005682e+00, ...,\n",
       "        -2.83420365e-01, -3.79494025e-01, -7.47100151e-01],\n",
       "       [ 3.00000000e+01,  1.84300000e+03, -5.90781036e-01, ...,\n",
       "         8.70950563e-01, -3.79494025e-01, -3.55607915e-01],\n",
       "       [ 2.20000000e+01,  1.86000000e+03, -2.70885152e-01, ...,\n",
       "        -4.40834583e-01, -3.79494025e-01,  8.18868793e-01],\n",
       "       ...,\n",
       "       [ 3.80000000e+01,  1.14800000e+03, -5.49710238e-01, ...,\n",
       "        -2.57184662e-01,  2.83781553e-01, -5.31779421e-01],\n",
       "       [ 1.70000000e+01,  6.05000000e+02, -1.08636867e+00, ...,\n",
       "         1.60555025e+00, -3.79494025e-01, -6.49227092e-01],\n",
       "       [ 9.00000000e+00,  5.46000000e+02, -8.83482709e-02, ...,\n",
       "        -9.65548641e-01, -3.79494025e-01, -4.73055586e-01]])"
      ]
     },
     "execution_count": 10,
     "metadata": {},
     "output_type": "execute_result"
    }
   ],
   "source": [
    "X_train_scl"
   ]
  },
  {
   "cell_type": "code",
   "execution_count": 11,
   "metadata": {},
   "outputs": [
    {
     "name": "stdout",
     "output_type": "stream",
     "text": [
      "Test accuracy: 25.07%\n",
      "Value Counts of classes predicted: \n",
      "2    14497\n",
      "3       25\n",
      "1       22\n",
      "dtype: int64\n"
     ]
    },
    {
     "data": {
      "image/png": "[encoded data removed]",
      "text/plain": [
       "<Figure size 432x288 with 1 Axes>"
      ]
     },
     "metadata": {
      "needs_background": "light"
     },
     "output_type": "display_data"
    }
   ],
   "source": [
    "y_pred_scl = model2.predict(X_test_scl)\n",
    "print('Test accuracy: %.2f%%' % (accuracy_score(y_test, y_pred_scl)*100))\n",
    "# print out the value counts of each item in y_pred_scl:\n",
    "print(\"Value Counts of classes predicted: \")\n",
    "print(pd.Series(y_pred_scl).value_counts())\n",
    "cost_avgs = np.mean(model2.cost_,axis=1)\n",
    "plt.plot(range(len(cost_avgs)), cost_avgs, color='red')\n",
    "plt.ylabel('Cost')\n",
    "plt.xlabel('Epochs')\n",
    "plt.title('Cost vs Epochs')\n",
    "plt.show()"
   ]
  },
  {
   "cell_type": "markdown",
   "metadata": {},
   "source": [
    "The results remain pretty bad, the cost is still largely hovering in the same range across the epochs, although we are getting slightly more diversity in the outputs of the Perceptron now. This makes it seem like the single biggest issue with the data itself is that the large values of the label encoded categorical features, specifically county because it has so many unique values may be making the optimization very difficult for the network. Let's see if one hot encoding the categorical variables makes a difference."
   ]
  },
  {
   "cell_type": "code",
   "execution_count": 12,
   "metadata": {},
   "outputs": [
    {
     "name": "stderr",
     "output_type": "stream",
     "text": [
      "Epoch: 100/100"
     ]
    },
    {
     "data": {
      "text/plain": [
       "<__main__.TwoLayerPerceptronBase at 0x7fb51e671940>"
      ]
     },
     "execution_count": 12,
     "metadata": {},
     "output_type": "execute_result"
    }
   ],
   "source": [
    "# Standard Scale X_train and X_test except for the first 2 columns\n",
    "scaler = preprocessing.StandardScaler().fit(X_train[:,2:])\n",
    "\n",
    "X_train_scl = X_train.copy()\n",
    "X_test_scl = X_test.copy()\n",
    "\n",
    "X_train_scl[:,2:] = scaler.transform(X_train[:,2:])\n",
    "X_test_scl[:,2:] = scaler.transform(X_test[:,2:])\n",
    "\n",
    "\n",
    "# get the first two columns of X_train_scl and X_test_scl\n",
    "X_train_one_hot = X_train_scl[:,:2]\n",
    "X_test_one_hot = X_test_scl[:,:2]\n",
    "\n",
    "\n",
    "X_one_hot = np.concatenate((X_train_one_hot,X_test_one_hot),axis=0)\n",
    "\n",
    "# One Hot Encode X_train_one_hot and X_test_one_hot\n",
    "enc = preprocessing.OneHotEncoder()\n",
    "enc.fit(X_one_hot)\n",
    "X_train_one_hot = enc.transform(X_train_one_hot).toarray()\n",
    "X_test_one_hot = enc.transform(X_test_one_hot).toarray()\n",
    "\n",
    "# Concatenate X_train_one_hot and X_test_one_hot with X_train_scl and X_test_scl to create our final train and test sets\n",
    "X_train_scl_one_hot = np.concatenate((X_train_one_hot,X_train_scl[:,2:]),axis=1)\n",
    "X_test_scl_one_hot = np.concatenate((X_test_one_hot,X_test_scl[:,2:]),axis=1)\n",
    "\n",
    "# Running with the same hyperparameters as above\n",
    "model3 = TwoLayerPerceptronBase(**hyper_params)\n",
    "model3.fit(X_train_scl_one_hot,y_train,print_progress=1,XY_test=(X_test_scl_one_hot,y_test))\n"
   ]
  },
  {
   "cell_type": "code",
   "execution_count": 13,
   "metadata": {},
   "outputs": [
    {
     "name": "stdout",
     "output_type": "stream",
     "text": [
      "Test accuracy: 72.74%\n",
      "Value Counts of classes predicted: \n",
      "2    4032\n",
      "0    3930\n",
      "3    3475\n",
      "1    3107\n",
      "dtype: int64\n"
     ]
    },
    {
     "data": {
      "image/png": "[encoded data removed]",
      "text/plain": [
       "<Figure size 432x288 with 1 Axes>"
      ]
     },
     "metadata": {
      "needs_background": "light"
     },
     "output_type": "display_data"
    }
   ],
   "source": [
    "y_pred_scl_one_hot = model3.predict(X_test_scl_one_hot)\n",
    "print('Test accuracy: %.2f%%' % (accuracy_score(y_test, y_pred_scl_one_hot)*100))\n",
    "# print out the value counts of each item in y_pred_scl_one_hot:\n",
    "print(\"Value Counts of classes predicted: \")\n",
    "print(pd.Series(y_pred_scl_one_hot).value_counts())\n",
    "cost_avgs = np.mean(model3.cost_,axis=1)\n",
    "plt.plot(range(len(cost_avgs)), cost_avgs, color='red')\n",
    "plt.ylabel('Cost')\n",
    "plt.xlabel('Epochs')\n",
    "plt.title('Cost vs Epochs')\n",
    "plt.show()"
   ]
  },
  {
   "cell_type": "markdown",
   "metadata": {},
   "source": [
    "One Hot encoding and scaling the features provides a huge boost in performance, and allows the network to actually train properly, as seen by how the loss converges in the graph above, as well as the much higher accuracy (much, much better than random chance, unlike the previous networks).  We theorize that this is likely due to the combination of scaling and one hot encoding simultaneous keeping the features in small ranges and preventing the network from learning incorrect ordinal patterns in the categorical data (A state encoded with a higher value isn't actually greater in any way). However, we think the single biggest factor is probably the fact that this keeps the dynamic ranges of all the variables constrained, and thus prevents bias among variables, and allows for the glorot initialization to be effective so that the activations do not saturate early (which can cause the Cross-Entropy loss and the gradients to become unstable)."
   ]
  },
  {
   "cell_type": "markdown",
   "metadata": {
    "pycharm": {
     "name": "#%% md\n"
    }
   },
   "source": [
    "## Modeling"
   ]
  },
  {
   "cell_type": "code",
   "execution_count": 14,
   "metadata": {},
   "outputs": [],
   "source": [
    "# Using scaled and one-hot encoded data by default\n",
    "X_train = X_train_scl_one_hot\n",
    "X_test = X_test_scl_one_hot"
   ]
  },
  {
   "cell_type": "code",
   "execution_count": 399,
   "metadata": {},
   "outputs": [],
   "source": [
    "# Example adapted from https://github.com/rasbt/python-machine-learning-book/blob/master/code/ch12/ch12.ipynb\n",
    "# Original Author: Sebastian Raschka\n",
    "\n",
    "# This is the optional book we use in the course, excellent intuitions and straightforward programming examples\n",
    "# please note, however, that this code has been manipulated to reflect our assumptions and notation.\n",
    "import numpy as np\n",
    "from scipy.special import expit\n",
    "import pandas as pd\n",
    "import sys\n",
    "\n",
    "# start with a simple base classifier, which can't be fit or predicted\n",
    "# it only has internal classes to be used by classes that will subclass it\n",
    "class MultiLayerPerceptron(object):\n",
    "    def __init__(self, n_hidden=30, n_layers=2,\n",
    "                 C=0.0, epochs=500, eta=0.001, random_state=None,\n",
    "                 alpha=0.0, decrease_const=0.0, shuffle=True,\n",
    "                 minibatches=1):\n",
    "        np.random.seed(random_state)\n",
    "        self.n_layers = n_layers\n",
    "        self.n_hidden = n_hidden\n",
    "        self.l2_C = C\n",
    "        self.epochs = epochs\n",
    "        self.eta = eta\n",
    "        # Mini Batch params:\n",
    "        self.alpha = alpha\n",
    "        self.decrease_const = decrease_const\n",
    "        self.shuffle = shuffle\n",
    "        self.minibatches = minibatches\n",
    "\n",
    "        \n",
    "    @staticmethod\n",
    "    def _encode_labels(y):\n",
    "        \"\"\"Encode labels into one-hot representation\"\"\"\n",
    "        onehot = pd.get_dummies(y).values.T\n",
    "            \n",
    "        return onehot\n",
    "\n",
    "    def _initialize_weights(self):\n",
    "        \"\"\"Initialize weights Glorot and He normalization.\"\"\"\n",
    "        self.weights_ = []\n",
    "        self.biases_ = []\n",
    "        \n",
    "        init_bound = 4*np.sqrt(6. / (self.n_hidden + self.n_features_))\n",
    "        W_first = np.random.uniform(-init_bound, init_bound,(self.n_hidden, self.n_features_))\n",
    "        self.weights_.append(W_first)\n",
    "        b1 = np.zeros((self.n_hidden, 1))\n",
    "        self.biases_.append(b1)\n",
    "\n",
    "        # All the layers inbetween the first and last being initialized\n",
    "        for i in range(1, self.n_layers-1):\n",
    "            init_bound = 4*np.sqrt(6. / (self.n_hidden + self.n_hidden))\n",
    "            W = np.random.uniform(-init_bound, init_bound,(self.n_hidden, self.n_hidden))\n",
    "            self.weights_.append(W)\n",
    "            b = np.zeros((self.n_hidden, 1))\n",
    "            self.biases_.append(b)\n",
    "\n",
    "        # reduce the final layer magnitude in order to balance the size of the gradients\n",
    "        # between \n",
    "        init_bound = 4*np.sqrt(6 / (self.n_output_ + self.n_hidden))\n",
    "        W_last = np.random.uniform(-init_bound, init_bound,(self.n_output_, self.n_hidden)) \n",
    "        self.weights_.append(W_last)\n",
    "        \n",
    "        b2 = np.zeros((self.n_output_, 1))\n",
    "        self.biases_.append(b2)\n",
    "    \n",
    "    @staticmethod\n",
    "    def _sigmoid(z):\n",
    "        \"\"\"Use scipy.special.expit to avoid overflow\"\"\"\n",
    "        # 1.0 / (1.0 + np.exp(-z))\n",
    "        return expit(z)\n",
    "    \n",
    "    \n",
    "    def _L2_reg(self, lambda_):\n",
    "        \"\"\"Compute L2-regularization cost\"\"\"\n",
    "        # only compute for non-bias terms\n",
    "        l2_reg = (lambda_/2.0)\n",
    "        under_the_root = 0\n",
    "        for w in self.weights_:\n",
    "            under_the_root += np.mean(w ** 2)\n",
    "        \n",
    "        l2_reg *= np.sqrt(under_the_root)\n",
    "\n",
    "        return l2_reg\n",
    "    \n",
    "    def _cost(self, A_last, Y_enc):\n",
    "        '''Get the objective function value'''\n",
    "\n",
    "        cost = -np.mean(np.nan_to_num((Y_enc*np.log(A_last)+(1-Y_enc)*np.log(1-A_last))))\n",
    "        L2_term = self._L2_reg(self.l2_C)\n",
    "        return cost + L2_term\n",
    "    \n",
    "    def _feedforward(self, X):\n",
    "        \"\"\"Compute feedforward step\n",
    "        -----------\n",
    "        X : Input layer with original features.\n",
    "        W1: Weight matrix for input layer -> hidden layer.\n",
    "        W2: Weight matrix for hidden layer -> output layer.\n",
    "        ----------\n",
    "        a1-a3 : activations into layer (or output layer)\n",
    "        z1-z2 : layer inputs \n",
    "\n",
    "        \"\"\"\n",
    "        A = []\n",
    "        Z = []\n",
    "\n",
    "        # First layer\n",
    "        a = X.T\n",
    "        \n",
    "        for W in self.weights_:\n",
    "            A.append(a)\n",
    "            z = W @ a\n",
    "            Z.append(z)\n",
    "            a = self._sigmoid(z)\n",
    "        A.append(a)\n",
    "        return A, Z\n",
    "\n",
    "\n",
    "    \n",
    "    def _get_gradient(self, A, Y_enc):\n",
    "        \"\"\" Compute gradient step using backpropagation.\n",
    "        \"\"\"\n",
    "\n",
    "        w_gradients = []\n",
    "        b_gradients = []\n",
    "\n",
    "        v = (A[-1] - Y_enc)\n",
    "\n",
    "        # Reverse A:\n",
    "        # Remove the FINAL element of A:\n",
    "        \n",
    "        final = True\n",
    "        for i in range(len(self.weights_)-1, -1, -1):\n",
    "\n",
    "            curr_grad = v @ A[i].T\n",
    "            # Adding Regularization:\n",
    "            curr_grad += self.weights_[i] * self.l2_C\n",
    "\n",
    "            curr_bias = np.sum(v, axis=1).reshape((-1,1))\n",
    "\n",
    "            b_gradients.append(curr_bias)\n",
    "            w_gradients.append(curr_grad)\n",
    "\n",
    "            v = A[i] * (1-A[i]) * (self.weights_[i].T @ v)\n",
    "\n",
    "        w_gradients.reverse()\n",
    "        b_gradients.reverse()\n",
    "\n",
    "        return w_gradients, b_gradients\n",
    "    \n",
    "    def predict(self, X):\n",
    "        \"\"\"Predict class labels\"\"\"\n",
    "        A, Z = self._feedforward(X)\n",
    "        y_pred = np.argmax(A[-1], axis=0)\n",
    "        return y_pred\n",
    "        \n",
    "    def fit(self, X, y, print_progress=False, XY_test=None):\n",
    "        \"\"\" Learn weights from training data. With mini-batch\"\"\"\n",
    "        X_data, y_data = X.copy(), y.copy()\n",
    "        Y_enc = self._encode_labels(y)\n",
    "        \n",
    "        # init weights and setup matrices\n",
    "        self.n_features_ = X_data.shape[1]\n",
    "        self.n_output_ = Y_enc.shape[0]\n",
    "        self._initialize_weights()\n",
    "\n",
    "        #instantiating the list of arrays for storing the gradient magnitudes for each layer across each epoch\n",
    "        self.w_grad_ = [np.zeros(self.epochs, dtype=np.float64) for i in range(self.n_layers)]\n",
    "        # start momentum at zero for previous updates\n",
    "        rho_W_prev = []\n",
    "        for w in self.weights_:\n",
    "            rho_W_prev.append(np.zeros(w.shape))\n",
    "\n",
    "        self.cost_ = []\n",
    "        self.score_ = []\n",
    "        # get starting acc\n",
    "        self.score_.append(accuracy_score(y_data,self.predict(X_data)))\n",
    "        # keep track of validation, if given\n",
    "        if XY_test is not None:\n",
    "            X_test = XY_test[0].copy()\n",
    "            y_test = XY_test[1].copy()\n",
    "            self.val_score_ = []\n",
    "            self.val_score_.append(accuracy_score(y_test,self.predict(X_test)))\n",
    "            \n",
    "        for i in range(self.epochs):\n",
    "\n",
    "            # adaptive learning rate\n",
    "            # \\frac{\\eta}{1+\\epsilon\\cdot k}\n",
    "            eta = self.eta / (1 + self.decrease_const*i)\n",
    "\n",
    "            if print_progress>0 and (i+1)%print_progress==0:\n",
    "                sys.stderr.write('\\rEpoch: %d/%d' % (i+1, self.epochs))\n",
    "                sys.stderr.flush()\n",
    "\n",
    "            if self.shuffle:\n",
    "                idx_shuffle = np.random.permutation(y_data.shape[0])\n",
    "                X_data, Y_enc, y_data = X_data[idx_shuffle], Y_enc[:, idx_shuffle], y_data[idx_shuffle]\n",
    "\n",
    "            mini = np.array_split(range(y_data.shape[0]), self.minibatches)\n",
    "            mini_cost = []\n",
    "            for idx in mini:\n",
    "\n",
    "                # feedforward\n",
    "                A, Z = self._feedforward(X_data[idx])\n",
    "                \n",
    "                cost = self._cost(A[-1], Y_enc[:, idx])\n",
    "\n",
    "                mini_cost.append(cost) # this appends cost of mini-batch only\n",
    "\n",
    "                # compute gradient via backpropagation\n",
    "                w_gradients, b_gradients = self._get_gradient(A, Y_enc=Y_enc[:, idx])\n",
    "\n",
    "                for j in range(len(w_gradients)):\n",
    "                    self.w_grad_[j][i] = np.linalg.norm(w_gradients[j])\n",
    "\n",
    "                # momentum calculations\n",
    "                rho = [gradient*eta for gradient in w_gradients]\n",
    "                \n",
    "                for w in range(len(self.weights_)):\n",
    "                    self.weights_[w] -= (rho[w] + (self.alpha * rho_W_prev[w]))\n",
    "                    self.biases_[w] -= eta * b_gradients[w]\n",
    "                rho_W_prev = rho\n",
    "                \n",
    "\n",
    "            self.cost_.append(mini_cost)\n",
    "            self.score_.append(accuracy_score(y_data,self.predict(X_data)))\n",
    "            if XY_test is not None:\n",
    "                self.val_score_.append(accuracy_score(y_test,self.predict(X_test)))\n",
    "            \n",
    "        return self"
   ]
  },
  {
   "cell_type": "code",
   "execution_count": 404,
   "metadata": {},
   "outputs": [
    {
     "name": "stderr",
     "output_type": "stream",
     "text": [
      "Epoch: 10/10"
     ]
    },
    {
     "name": "stdout",
     "output_type": "stream",
     "text": [
      "CPU times: user 2min 26s, sys: 29.4 s, total: 2min 55s\n",
      "Wall time: 24.8 s\n"
     ]
    },
    {
     "data": {
      "text/plain": "<__main__.MultiLayerPerceptron at 0x2ba427f70>"
     },
     "execution_count": 404,
     "metadata": {},
     "output_type": "execute_result"
    }
   ],
   "source": [
    "%%time\n",
    "hyper_params[\"epochs\"] = 10\n",
    "hyper_params[\"n_layers\"] = 3\n",
    "model4 = MultiLayerPerceptron(**hyper_params)\n",
    "model4.fit(X_train, y_train, print_progress=1, XY_test=(X_test,y_test))"
   ]
  },
  {
   "cell_type": "code",
   "execution_count": 405,
   "metadata": {},
   "outputs": [
    {
     "name": "stdout",
     "output_type": "stream",
     "text": [
      "Test accuracy: 73.06%\n",
      "Value Counts of classes predicted: \n",
      "2    3913\n",
      "1    3684\n",
      "3    3603\n",
      "0    3344\n",
      "dtype: int64\n"
     ]
    },
    {
     "data": {
      "text/plain": "<Figure size 640x480 with 1 Axes>",
      "image/png": "[encoded data removed]"
     },
     "metadata": {},
     "output_type": "display_data"
    }
   ],
   "source": [
    "y_pred = model4.predict(X_test)\n",
    "print('Test accuracy: %.2f%%' % (accuracy_score(y_test, y_pred)*100))\n",
    "# print out the value counts of each item in y_pred_scl_one_hot:\n",
    "print(\"Value Counts of classes predicted: \")\n",
    "print(pd.Series(y_pred).value_counts())\n",
    "cost_avgs = np.mean(model4.cost_,axis=1)\n",
    "plt.plot(range(len(cost_avgs)), cost_avgs, color='red')\n",
    "plt.ylabel('Cost')\n",
    "plt.xlabel('Epochs')\n",
    "plt.title('Cost vs Epochs')\n",
    "plt.show()"
   ]
  },
  {
   "cell_type": "markdown",
   "metadata": {
    "pycharm": {
     "name": "#%% md\n"
    }
   },
   "source": [
    "## Exceptional Work"
   ]
  },
  {
   "cell_type": "markdown",
   "metadata": {},
   "source": []
  }
 ],
 "metadata": {
  "kernelspec": {
   "display_name": "Python 3.8.3 ('base')",
   "language": "python",
   "name": "python3"
  },
  "language_info": {
   "codemirror_mode": {
    "name": "ipython",
    "version": 3
   },
   "file_extension": ".py",
   "mimetype": "text/x-python",
   "name": "python",
   "nbconvert_exporter": "python",
   "pygments_lexer": "ipython3",
   "version": "3.8.3"
  },
  "vscode": {
   "interpreter": {
    "hash": "5cf3adf616e33df8fa5658772e64b4f0f2254473e5d618a082e9a94e9d74aa87"
   }
  }
 },
 "nbformat": 4,
 "nbformat_minor": 1
}
