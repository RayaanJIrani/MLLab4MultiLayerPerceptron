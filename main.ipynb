{
 "cells": [
  {
   "cell_type": "markdown",
   "metadata": {
    "pycharm": {
     "name": "#%% md\n"
    }
   },
   "source": [
    "# Lab Four: Multi-Layer Perceptron\n",
    "By Saaketh Koka, Vedant Nilabh, and Rayaan Irani \n",
    "\n",
    "In this lab, we will make a multi-layer perceptron (a type of Neural Network) which takes in data provided by the US Census Bearueau on a county-wide basis to determine the child poverty level in the county. "
   ]
  },
  {
   "cell_type": "markdown",
   "metadata": {
    "pycharm": {
     "name": "#%% md\n"
    }
   },
   "source": [
    "## Load, Split, and Balance"
   ]
  },
  {
   "cell_type": "code",
   "execution_count": 9,
   "metadata": {
    "pycharm": {
     "name": "#%%\n"
    }
   },
   "outputs": [],
   "source": [
    "#Import statements for the program \n",
    "import pandas as pd\n",
    "import numpy as np\n",
    "import matplotlib.pyplot as plt\n",
    "import os \n",
    "from sklearn import preprocessing\n",
    "from sklearn.model_selection import train_test_split\n",
    "from sklearn.metrics import accuracy_score\n",
    "import warnings\n",
    "warnings.filterwarnings('ignore')"
   ]
  },
  {
   "cell_type": "code",
   "execution_count": 15,
   "metadata": {},
   "outputs": [
    {
     "name": "stdout",
     "output_type": "stream",
     "text": [
      "Median number of census tracts per county: 9.0\n",
      "Mean number of census tracts per county: 37.21494370522006\n"
     ]
    },
    {
     "data": {
      "image/png": "[encoded data removed]",
      "text/plain": [
       "<Figure size 432x288 with 1 Axes>"
      ]
     },
     "metadata": {
      "needs_background": "light"
     },
     "output_type": "display_data"
    }
   ],
   "source": [
    "#Loads in all of the data into a Pandas Data Frame\n",
    "df = pd.read_csv(\"acs2017_census_tract_data.csv\")\n",
    "\n",
    "df.dropna(inplace=True) #Removes rows that have missing values \n",
    "\n",
    "#This converts all of the string values into numerical values\n",
    "le = preprocessing.LabelEncoder()\n",
    "df['State'] = le.fit_transform(df['State'])\n",
    "df['County'] = le.fit_transform(df['County'])\n",
    "\n",
    "counts = list(df[\"County\"].groupby(df[\"County\"]).count())\n",
    "plt.hist(counts, bins = 20)\n",
    "plt.title(\"Number of Census Tracts per County\")\n",
    "plt.xlabel(\"Number of Census Tracts\")\n",
    "plt.ylabel(\"Number of Counties\")\n",
    "\n",
    "#Shows the median number of census tracts per county\n",
    "print(\"Median number of census tracts per county: \" + str(np.median(counts)))\n",
    "\n",
    "#Shows the mean number of census tracts per county\n",
    "print(\"Mean number of census tracts per county: \" + str(np.mean(counts)))\n"
   ]
  },
  {
   "cell_type": "markdown",
   "metadata": {},
   "source": [
    "Counites should be kept as a feature. This is becuase counties like states play a role in funding poverty relief programs. The extent to which these programs are funded is a result of the relative wealth of the county (as most county tax revenue is derived from property taxes). Due to this, it is possible that two census tracks that are very similar in other data types may differ greatly in poverty levels because one is surronded by a richer area and thus gets more county funding and the other does not. "
   ]
  },
  {
   "cell_type": "code",
   "execution_count": 16,
   "metadata": {},
   "outputs": [
    {
     "data": {
      "text/plain": [
       "Text(0, 0.5, 'Number of Census Tracts')"
      ]
     },
     "execution_count": 16,
     "metadata": {},
     "output_type": "execute_result"
    },
    {
     "data": {
      "image/png": "[encoded data removed]",
      "text/plain": [
       "<Figure size 432x288 with 1 Axes>"
      ]
     },
     "metadata": {
      "needs_background": "light"
     },
     "output_type": "display_data"
    }
   ],
   "source": [
    "# Create histogram of child poverty rates\n",
    "plt.hist(df[\"ChildPoverty\"], bins = 20)\n",
    "plt.title(\"Child Poverty Rates\")\n",
    "plt.xlabel(\"Child Poverty Rate\")\n",
    "plt.ylabel(\"Number of Census Tracts\")\n"
   ]
  },
  {
   "cell_type": "markdown",
   "metadata": {},
   "source": [
    "As can seen by the chart, the child poverty rates amongst census tracks do not follow a uniform or Gausian distribution. The data shows a mode near zero with the number of census tracks suffering a higher rates falling steadly from there. Due to the data being monomodal, there is no clear points to split the data into classes from Child Poverty Rates themselves. For this reason, we are spliting the data into classes each with an equal number of census tracks. This will allow us to use the full dataset for training and testing instead of having to throw away data to keep the classes balanced."
   ]
  },
  {
   "cell_type": "code",
   "execution_count": 17,
   "metadata": {},
   "outputs": [],
   "source": [
    "# Discreatizing the Unemployment Variable into 4 classes, 0,1,2,3\n",
    "classes = pd.qcut(df['ChildPoverty'], 4, labels = [0,1,2,3])\n",
    "df['ChildPoverty'] = classes\n",
    "\n",
    "# Dropping the TractId column because it is useless for our model\n",
    "df.drop('TractId', axis = 1, inplace = True)\n",
    "\n",
    "# Splitting the data so that each set has almost an equal number of each class\n",
    "X_train, X_test, y_train, y_test = train_test_split(df.drop('ChildPoverty', axis = 1), df['ChildPoverty'], test_size = 0.2, stratify = df['ChildPoverty'])\n",
    "\n",
    "# Converting the data into numpy arrays\n",
    "X_train = np.array(X_train)\n",
    "y_train = np.array(y_train)\n",
    "X_test = np.array(X_test)\n",
    "y_test = np.array(y_test)"
   ]
  },
  {
   "cell_type": "markdown",
   "metadata": {
    "pycharm": {
     "name": "#%% md\n"
    }
   },
   "source": [
    "## Initial Modeling"
   ]
  },
  {
   "cell_type": "code",
   "execution_count": 19,
   "metadata": {},
   "outputs": [],
   "source": [
    "# Example adapted from https://github.com/rasbt/python-machine-learning-book/blob/master/code/ch12/ch12.ipynb\n",
    "# Original Author: Sebastian Raschka\n",
    "\n",
    "# This is the optional book we use in the course, excellent intuitions and straightforward programming examples\n",
    "# please note, however, that this code has been manipulated to reflect our assumptions and notation.\n",
    "import numpy as np\n",
    "from scipy.special import expit\n",
    "import pandas as pd\n",
    "import sys\n",
    "\n",
    "# start with a simple base classifier, which can't be fit or predicted\n",
    "# it only has internal classes to be used by classes that will subclass it\n",
    "class TwoLayerPerceptronBase(object):\n",
    "    def __init__(self, n_hidden=30,\n",
    "                 C=0.0, epochs=500, eta=0.001, random_state=None,\n",
    "                 alpha=0.0, decrease_const=0.0, shuffle=True,\n",
    "                 minibatches=1):\n",
    "        np.random.seed(random_state)\n",
    "        self.n_hidden = n_hidden\n",
    "        self.l2_C = C\n",
    "        self.epochs = epochs\n",
    "        self.eta = eta\n",
    "        # Mini Batch params:\n",
    "        self.alpha = alpha\n",
    "        self.decrease_const = decrease_const\n",
    "        self.shuffle = shuffle\n",
    "        self.minibatches = minibatches\n",
    "\n",
    "        \n",
    "    @staticmethod\n",
    "    def _encode_labels(y):\n",
    "        \"\"\"Encode labels into one-hot representation\"\"\"\n",
    "        onehot = pd.get_dummies(y).values.T\n",
    "            \n",
    "        return onehot\n",
    "\n",
    "    def _initialize_weights(self):\n",
    "        \"\"\"Initialize weights Glorot and He normalization.\"\"\"\n",
    "        init_bound = 4*np.sqrt(6. / (self.n_hidden + self.n_features_))\n",
    "        W1 = np.random.uniform(-init_bound, init_bound,(self.n_hidden, self.n_features_))\n",
    "\n",
    "        # reduce the final layer magnitude in order to balance the size of the gradients\n",
    "        # between \n",
    "        init_bound = 4*np.sqrt(6 / (self.n_output_ + self.n_hidden))\n",
    "        W2 = np.random.uniform(-init_bound, init_bound,(self.n_output_, self.n_hidden)) \n",
    "        \n",
    "        b1 = np.zeros((self.n_hidden, 1))\n",
    "        b2 = np.zeros((self.n_output_, 1))\n",
    "        \n",
    "        return W1, W2, b1, b2\n",
    "    \n",
    "    @staticmethod\n",
    "    def _sigmoid(z):\n",
    "        \"\"\"Use scipy.special.expit to avoid overflow\"\"\"\n",
    "        # 1.0 / (1.0 + np.exp(-z))\n",
    "        return expit(z)\n",
    "    \n",
    "    \n",
    "    @staticmethod\n",
    "    def _L2_reg(lambda_, W1, W2):\n",
    "        \"\"\"Compute L2-regularization cost\"\"\"\n",
    "        # only compute for non-bias terms\n",
    "        return (lambda_/2.0) * np.sqrt(np.mean(W1[:, 1:] ** 2) + np.mean(W2[:, 1:] ** 2))\n",
    "    \n",
    "    def _cost(self,A3,Y_enc,W1,W2):\n",
    "        '''Get the objective function value'''\n",
    "        cost = -np.mean(np.nan_to_num((Y_enc*np.log(A3)+(1-Y_enc)*np.log(1-A3))))\n",
    "        L2_term = self._L2_reg(self.l2_C, W1, W2)\n",
    "        return cost + L2_term\n",
    "    \n",
    "    def _feedforward(self, X, W1, W2, b1, b2):\n",
    "        \"\"\"Compute feedforward step\n",
    "        -----------\n",
    "        X : Input layer with original features.\n",
    "        W1: Weight matrix for input layer -> hidden layer.\n",
    "        W2: Weight matrix for hidden layer -> output layer.\n",
    "        ----------\n",
    "        a1-a3 : activations into layer (or output layer)\n",
    "        z1-z2 : layer inputs \n",
    "\n",
    "        \"\"\"\n",
    "        A1 = X.T\n",
    "        Z1 = W1 @ A1 + b1\n",
    "        A2 = self._sigmoid(Z1)\n",
    "        Z2 = W2 @ A2 + b2\n",
    "        A3 = self._sigmoid(Z2)\n",
    "        return A1, Z1, A2, Z2, A3\n",
    "    \n",
    "    def _get_gradient(self, A1, A2, A3, Z1, Z2, Y_enc, W1, W2):\n",
    "        \"\"\" Compute gradient step using backpropagation.\n",
    "        \"\"\"\n",
    "        # vectorized backpropagation\n",
    "        V2 = (A3-Y_enc) # <- this is only line that changed\n",
    "        V1 = A2*(1-A2)*(W2.T @ V2)\n",
    "        \n",
    "        gradW2 = V2 @ A2.T\n",
    "        gradW1 = V1 @ A1.T\n",
    "        \n",
    "        gradb2 = np.sum(V2, axis=1).reshape((-1,1))\n",
    "        gradb1 = np.sum(V1, axis=1).reshape((-1,1))\n",
    "        \n",
    "        # regularize weights that are not bias terms\n",
    "        gradW1 += W1 * self.l2_C\n",
    "        gradW2 += W2 * self.l2_C\n",
    "\n",
    "        return gradW1, gradW2, gradb1, gradb2\n",
    "    \n",
    "    def predict(self, X):\n",
    "        \"\"\"Predict class labels\"\"\"\n",
    "        _, _, _, _, A3 = self._feedforward(X, self.W1, self.W2, self.b1, self.b2)\n",
    "        y_pred = np.argmax(A3, axis=0)\n",
    "        return y_pred\n",
    "    def fit(self, X, y, print_progress=False, XY_test=None):\n",
    "        \"\"\" Learn weights from training data. With mini-batch\"\"\"\n",
    "        X_data, y_data = X.copy(), y.copy()\n",
    "        Y_enc = self._encode_labels(y)\n",
    "        \n",
    "        # init weights and setup matrices\n",
    "        self.n_features_ = X_data.shape[1]\n",
    "        self.n_output_ = Y_enc.shape[0]\n",
    "        self.W1, self.W2, self.b1, self.b2 = self._initialize_weights()\n",
    "\n",
    "        # start momentum at zero for previous updates\n",
    "        rho_W1_prev = np.zeros(self.W1.shape) # for momentum\n",
    "        rho_W2_prev = np.zeros(self.W2.shape) # for momentum\n",
    "\n",
    "        self.cost_ = []\n",
    "        self.score_ = []\n",
    "        # get starting acc\n",
    "        self.score_.append(accuracy_score(y_data,self.predict(X_data)))\n",
    "        # keep track of validation, if given\n",
    "        if XY_test is not None:\n",
    "            X_test = XY_test[0].copy()\n",
    "            y_test = XY_test[1].copy()\n",
    "            self.val_score_ = []\n",
    "            self.val_score_.append(accuracy_score(y_test,self.predict(X_test)))\n",
    "            \n",
    "        for i in range(self.epochs):\n",
    "\n",
    "            # adaptive learning rate\n",
    "            # \\frac{\\eta}{1+\\epsilon\\cdot k}\n",
    "            eta = self.eta / (1 + self.decrease_const*i)\n",
    "\n",
    "            if print_progress>0 and (i+1)%print_progress==0:\n",
    "                sys.stderr.write('\\rEpoch: %d/%d' % (i+1, self.epochs))\n",
    "                sys.stderr.flush()\n",
    "\n",
    "            if self.shuffle:\n",
    "                idx_shuffle = np.random.permutation(y_data.shape[0])\n",
    "                X_data, Y_enc, y_data = X_data[idx_shuffle], Y_enc[:, idx_shuffle], y_data[idx_shuffle]\n",
    "\n",
    "            mini = np.array_split(range(y_data.shape[0]), self.minibatches)\n",
    "            mini_cost = []\n",
    "            for idx in mini:\n",
    "\n",
    "                # feedforward\n",
    "                A1, Z1, A2, Z2, A3 = self._feedforward(X_data[idx],\n",
    "                                                       self.W1,\n",
    "                                                       self.W2,\n",
    "                                                       self.b1,\n",
    "                                                       self.b2\n",
    "                                                      )\n",
    "                \n",
    "                cost = self._cost(A3,Y_enc[:, idx],self.W1,self.W2)\n",
    "                mini_cost.append(cost) # this appends cost of mini-batch only\n",
    "\n",
    "                # compute gradient via backpropagation\n",
    "                gradW1, gradW2, gradb1, gradb2 = self._get_gradient(A1=A1, A2=A2, A3=A3, Z1=Z1, Z2=Z2, \n",
    "                                                  Y_enc=Y_enc[:, idx],\n",
    "                                                  W1=self.W1,W2=self.W2)\n",
    "\n",
    "                # momentum calculations\n",
    "                rho_W1, rho_W2 = eta * gradW1, eta * gradW2\n",
    "                self.W1 -= (rho_W1 + (self.alpha * rho_W1_prev)) # update with momentum\n",
    "                self.W2 -= (rho_W2 + (self.alpha * rho_W2_prev)) # update with momentum\n",
    "                self.b1 -= eta * gradb1\n",
    "                self.b2 -= eta * gradb2\n",
    "                rho_W1_prev, rho_W2_prev = rho_W1, rho_W2\n",
    "                \n",
    "\n",
    "            self.cost_.append(mini_cost)\n",
    "            self.score_.append(accuracy_score(y_data,self.predict(X_data)))\n",
    "            if XY_test is not None:\n",
    "                self.val_score_.append(accuracy_score(y_test,self.predict(X_test)))\n",
    "            \n",
    "        return self"
   ]
  },
  {
   "cell_type": "code",
   "execution_count": 25,
   "metadata": {},
   "outputs": [
    {
     "name": "stderr",
     "output_type": "stream",
     "text": [
      "Epoch: 100/100"
     ]
    },
    {
     "name": "stdout",
     "output_type": "stream",
     "text": [
      "Test accuracy: 24.96%\n"
     ]
    }
   ],
   "source": [
    "model1 = TwoLayerPerceptronBase(epochs=100)\n",
    "model1.fit(X_train,y_train,print_progress=1,XY_test=(X_test,y_test))\n"
   ]
  },
  {
   "cell_type": "code",
   "execution_count": 24,
   "metadata": {},
   "outputs": [
    {
     "name": "stdout",
     "output_type": "stream",
     "text": [
      "Test accuracy: 24.99%\n"
     ]
    }
   ],
   "source": [
    "y_pred = model1.predict(X_test)\n",
    "print('Test accuracy: %.2f%%' % (accuracy_score(y_test, y_pred)*100))\n"
   ]
  },
  {
   "cell_type": "code",
   "execution_count": 26,
   "metadata": {},
   "outputs": [
    {
     "data": {
      "image/png": "[encoded data removed]",
      "text/plain": [
       "<Figure size 432x288 with 1 Axes>"
      ]
     },
     "metadata": {
      "needs_background": "light"
     },
     "output_type": "display_data"
    }
   ],
   "source": [
    "# Graph loss function over epochs\n",
    "plt.plot(range(len(model1.cost_)), model1.cost_)\n",
    "plt.ylabel('Cost')\n",
    "plt.xlabel('Epochs')\n",
    "plt.show()"
   ]
  },
  {
   "cell_type": "code",
   "execution_count": 39,
   "metadata": {},
   "outputs": [
    {
     "name": "stdout",
     "output_type": "stream",
     "text": [
      "[1.5203895107645555, inf, inf, 60.37922820892324, inf, inf, inf, 60.37880529414091, inf, inf, inf, 60.37834168386094, inf, inf, inf, 60.37784988960758, inf, inf, inf, 60.3773385586578, inf, inf, inf, 60.376813675245536, inf, inf, inf, 60.37627938565591, inf, inf, inf, 60.375738565251204, inf, inf, inf, 60.375193209271934, inf, inf, inf, 60.374644702831546, inf, inf, inf, 60.374094007776236, inf, inf, inf, 60.37354179216735, inf, inf, inf, 60.372988520082004, inf, inf, inf, 60.37243451392924, inf, inf, inf, 60.37187999771289, inf, inf, inf, 60.371325127073916, inf, inf, inf, 60.37077001015759, inf, inf, inf, 60.370214722108976, inf, inf, inf, 60.369659315143835, inf, inf, inf, 60.369103825545615, inf, inf, inf, 60.3685482785268, inf, inf, inf, 60.36799269160693, inf, inf, inf, 60.36743707696048, inf, inf, inf, 60.36688144304704, inf, inf, inf, 60.36632579574524]\n"
     ]
    }
   ],
   "source": [
    "cost_avgs = [np.mean(x) for x in model1.cost_]\n",
    "#print(model1.cost_)\n",
    "print(cost_avgs)"
   ]
  },
  {
   "cell_type": "code",
   "execution_count": 36,
   "metadata": {},
   "outputs": [
    {
     "data": {
      "image/png": "[encoded data removed]",
      "text/plain": [
       "<Figure size 432x288 with 1 Axes>"
      ]
     },
     "metadata": {
      "needs_background": "light"
     },
     "output_type": "display_data"
    }
   ],
   "source": [
    "plt.plot(range(len(cost_avgs)), cost_avgs, color='red')\n",
    "plt.ylabel('Cost')\n",
    "plt.xlabel('Epochs')\n",
    "plt.tight_layout()\n",
    "plt.show()"
   ]
  },
  {
   "cell_type": "code",
   "execution_count": 34,
   "metadata": {},
   "outputs": [
    {
     "name": "stderr",
     "output_type": "stream",
     "text": [
      "Epoch: 2/100/Users/eliasmann/opt/anaconda3/envs/mlenv2022/lib/python3.7/site-packages/ipykernel_launcher.py:67: RuntimeWarning: divide by zero encountered in log\n",
      "/Users/eliasmann/opt/anaconda3/envs/mlenv2022/lib/python3.7/site-packages/ipykernel_launcher.py:67: RuntimeWarning: invalid value encountered in multiply\n",
      "/Users/eliasmann/opt/anaconda3/envs/mlenv2022/lib/python3.7/site-packages/numpy/core/_methods.py:179: RuntimeWarning: overflow encountered in reduce\n",
      "  ret = umr_sum(arr, axis, dtype, out, keepdims, where=where)\n",
      "Epoch: 3/100/Users/eliasmann/opt/anaconda3/envs/mlenv2022/lib/python3.7/site-packages/ipykernel_launcher.py:67: RuntimeWarning: divide by zero encountered in log\n",
      "/Users/eliasmann/opt/anaconda3/envs/mlenv2022/lib/python3.7/site-packages/ipykernel_launcher.py:67: RuntimeWarning: invalid value encountered in multiply\n",
      "/Users/eliasmann/opt/anaconda3/envs/mlenv2022/lib/python3.7/site-packages/numpy/core/_methods.py:179: RuntimeWarning: overflow encountered in reduce\n",
      "  ret = umr_sum(arr, axis, dtype, out, keepdims, where=where)\n",
      "Epoch: 5/100/Users/eliasmann/opt/anaconda3/envs/mlenv2022/lib/python3.7/site-packages/ipykernel_launcher.py:67: RuntimeWarning: divide by zero encountered in log\n",
      "/Users/eliasmann/opt/anaconda3/envs/mlenv2022/lib/python3.7/site-packages/ipykernel_launcher.py:67: RuntimeWarning: invalid value encountered in multiply\n",
      "/Users/eliasmann/opt/anaconda3/envs/mlenv2022/lib/python3.7/site-packages/numpy/core/_methods.py:179: RuntimeWarning: overflow encountered in reduce\n",
      "  ret = umr_sum(arr, axis, dtype, out, keepdims, where=where)\n",
      "Epoch: 7/100/Users/eliasmann/opt/anaconda3/envs/mlenv2022/lib/python3.7/site-packages/ipykernel_launcher.py:67: RuntimeWarning: divide by zero encountered in log\n",
      "/Users/eliasmann/opt/anaconda3/envs/mlenv2022/lib/python3.7/site-packages/ipykernel_launcher.py:67: RuntimeWarning: invalid value encountered in multiply\n",
      "/Users/eliasmann/opt/anaconda3/envs/mlenv2022/lib/python3.7/site-packages/numpy/core/_methods.py:179: RuntimeWarning: overflow encountered in reduce\n",
      "  ret = umr_sum(arr, axis, dtype, out, keepdims, where=where)\n",
      "Epoch: 8/100/Users/eliasmann/opt/anaconda3/envs/mlenv2022/lib/python3.7/site-packages/ipykernel_launcher.py:67: RuntimeWarning: divide by zero encountered in log\n",
      "/Users/eliasmann/opt/anaconda3/envs/mlenv2022/lib/python3.7/site-packages/ipykernel_launcher.py:67: RuntimeWarning: invalid value encountered in multiply\n",
      "/Users/eliasmann/opt/anaconda3/envs/mlenv2022/lib/python3.7/site-packages/numpy/core/_methods.py:179: RuntimeWarning: overflow encountered in reduce\n",
      "  ret = umr_sum(arr, axis, dtype, out, keepdims, where=where)\n",
      "Epoch: 10/100/Users/eliasmann/opt/anaconda3/envs/mlenv2022/lib/python3.7/site-packages/ipykernel_launcher.py:67: RuntimeWarning: divide by zero encountered in log\n",
      "/Users/eliasmann/opt/anaconda3/envs/mlenv2022/lib/python3.7/site-packages/ipykernel_launcher.py:67: RuntimeWarning: invalid value encountered in multiply\n",
      "/Users/eliasmann/opt/anaconda3/envs/mlenv2022/lib/python3.7/site-packages/numpy/core/_methods.py:179: RuntimeWarning: overflow encountered in reduce\n",
      "  ret = umr_sum(arr, axis, dtype, out, keepdims, where=where)\n",
      "Epoch: 11/100/Users/eliasmann/opt/anaconda3/envs/mlenv2022/lib/python3.7/site-packages/ipykernel_launcher.py:67: RuntimeWarning: divide by zero encountered in log\n",
      "/Users/eliasmann/opt/anaconda3/envs/mlenv2022/lib/python3.7/site-packages/ipykernel_launcher.py:67: RuntimeWarning: invalid value encountered in multiply\n",
      "/Users/eliasmann/opt/anaconda3/envs/mlenv2022/lib/python3.7/site-packages/numpy/core/_methods.py:179: RuntimeWarning: overflow encountered in reduce\n",
      "  ret = umr_sum(arr, axis, dtype, out, keepdims, where=where)\n",
      "Epoch: 12/100/Users/eliasmann/opt/anaconda3/envs/mlenv2022/lib/python3.7/site-packages/ipykernel_launcher.py:67: RuntimeWarning: divide by zero encountered in log\n",
      "/Users/eliasmann/opt/anaconda3/envs/mlenv2022/lib/python3.7/site-packages/ipykernel_launcher.py:67: RuntimeWarning: invalid value encountered in multiply\n",
      "/Users/eliasmann/opt/anaconda3/envs/mlenv2022/lib/python3.7/site-packages/numpy/core/_methods.py:179: RuntimeWarning: overflow encountered in reduce\n",
      "  ret = umr_sum(arr, axis, dtype, out, keepdims, where=where)\n",
      "Epoch: 14/100/Users/eliasmann/opt/anaconda3/envs/mlenv2022/lib/python3.7/site-packages/ipykernel_launcher.py:67: RuntimeWarning: divide by zero encountered in log\n",
      "/Users/eliasmann/opt/anaconda3/envs/mlenv2022/lib/python3.7/site-packages/ipykernel_launcher.py:67: RuntimeWarning: invalid value encountered in multiply\n",
      "/Users/eliasmann/opt/anaconda3/envs/mlenv2022/lib/python3.7/site-packages/numpy/core/_methods.py:179: RuntimeWarning: overflow encountered in reduce\n",
      "  ret = umr_sum(arr, axis, dtype, out, keepdims, where=where)\n",
      "Epoch: 15/100/Users/eliasmann/opt/anaconda3/envs/mlenv2022/lib/python3.7/site-packages/ipykernel_launcher.py:67: RuntimeWarning: divide by zero encountered in log\n",
      "/Users/eliasmann/opt/anaconda3/envs/mlenv2022/lib/python3.7/site-packages/ipykernel_launcher.py:67: RuntimeWarning: invalid value encountered in multiply\n",
      "/Users/eliasmann/opt/anaconda3/envs/mlenv2022/lib/python3.7/site-packages/numpy/core/_methods.py:179: RuntimeWarning: overflow encountered in reduce\n",
      "  ret = umr_sum(arr, axis, dtype, out, keepdims, where=where)\n",
      "Epoch: 16/100/Users/eliasmann/opt/anaconda3/envs/mlenv2022/lib/python3.7/site-packages/ipykernel_launcher.py:67: RuntimeWarning: divide by zero encountered in log\n",
      "/Users/eliasmann/opt/anaconda3/envs/mlenv2022/lib/python3.7/site-packages/ipykernel_launcher.py:67: RuntimeWarning: invalid value encountered in multiply\n",
      "/Users/eliasmann/opt/anaconda3/envs/mlenv2022/lib/python3.7/site-packages/numpy/core/_methods.py:179: RuntimeWarning: overflow encountered in reduce\n",
      "  ret = umr_sum(arr, axis, dtype, out, keepdims, where=where)\n",
      "Epoch: 17/100/Users/eliasmann/opt/anaconda3/envs/mlenv2022/lib/python3.7/site-packages/ipykernel_launcher.py:67: RuntimeWarning: divide by zero encountered in log\n",
      "/Users/eliasmann/opt/anaconda3/envs/mlenv2022/lib/python3.7/site-packages/ipykernel_launcher.py:67: RuntimeWarning: invalid value encountered in multiply\n",
      "/Users/eliasmann/opt/anaconda3/envs/mlenv2022/lib/python3.7/site-packages/numpy/core/_methods.py:179: RuntimeWarning: overflow encountered in reduce\n",
      "  ret = umr_sum(arr, axis, dtype, out, keepdims, where=where)\n",
      "Epoch: 18/100/Users/eliasmann/opt/anaconda3/envs/mlenv2022/lib/python3.7/site-packages/ipykernel_launcher.py:67: RuntimeWarning: divide by zero encountered in log\n",
      "/Users/eliasmann/opt/anaconda3/envs/mlenv2022/lib/python3.7/site-packages/ipykernel_launcher.py:67: RuntimeWarning: invalid value encountered in multiply\n",
      "/Users/eliasmann/opt/anaconda3/envs/mlenv2022/lib/python3.7/site-packages/numpy/core/_methods.py:179: RuntimeWarning: overflow encountered in reduce\n",
      "  ret = umr_sum(arr, axis, dtype, out, keepdims, where=where)\n",
      "Epoch: 19/100/Users/eliasmann/opt/anaconda3/envs/mlenv2022/lib/python3.7/site-packages/ipykernel_launcher.py:67: RuntimeWarning: divide by zero encountered in log\n",
      "/Users/eliasmann/opt/anaconda3/envs/mlenv2022/lib/python3.7/site-packages/ipykernel_launcher.py:67: RuntimeWarning: invalid value encountered in multiply\n",
      "/Users/eliasmann/opt/anaconda3/envs/mlenv2022/lib/python3.7/site-packages/numpy/core/_methods.py:179: RuntimeWarning: overflow encountered in reduce\n",
      "  ret = umr_sum(arr, axis, dtype, out, keepdims, where=where)\n",
      "Epoch: 20/100/Users/eliasmann/opt/anaconda3/envs/mlenv2022/lib/python3.7/site-packages/ipykernel_launcher.py:67: RuntimeWarning: divide by zero encountered in log\n",
      "/Users/eliasmann/opt/anaconda3/envs/mlenv2022/lib/python3.7/site-packages/ipykernel_launcher.py:67: RuntimeWarning: invalid value encountered in multiply\n",
      "/Users/eliasmann/opt/anaconda3/envs/mlenv2022/lib/python3.7/site-packages/numpy/core/_methods.py:179: RuntimeWarning: overflow encountered in reduce\n",
      "  ret = umr_sum(arr, axis, dtype, out, keepdims, where=where)\n",
      "Epoch: 21/100/Users/eliasmann/opt/anaconda3/envs/mlenv2022/lib/python3.7/site-packages/ipykernel_launcher.py:67: RuntimeWarning: divide by zero encountered in log\n",
      "/Users/eliasmann/opt/anaconda3/envs/mlenv2022/lib/python3.7/site-packages/ipykernel_launcher.py:67: RuntimeWarning: invalid value encountered in multiply\n",
      "/Users/eliasmann/opt/anaconda3/envs/mlenv2022/lib/python3.7/site-packages/numpy/core/_methods.py:179: RuntimeWarning: overflow encountered in reduce\n",
      "  ret = umr_sum(arr, axis, dtype, out, keepdims, where=where)\n",
      "Epoch: 22/100/Users/eliasmann/opt/anaconda3/envs/mlenv2022/lib/python3.7/site-packages/ipykernel_launcher.py:67: RuntimeWarning: divide by zero encountered in log\n",
      "/Users/eliasmann/opt/anaconda3/envs/mlenv2022/lib/python3.7/site-packages/ipykernel_launcher.py:67: RuntimeWarning: invalid value encountered in multiply\n",
      "/Users/eliasmann/opt/anaconda3/envs/mlenv2022/lib/python3.7/site-packages/numpy/core/_methods.py:179: RuntimeWarning: overflow encountered in reduce\n",
      "  ret = umr_sum(arr, axis, dtype, out, keepdims, where=where)\n",
      "Epoch: 23/100/Users/eliasmann/opt/anaconda3/envs/mlenv2022/lib/python3.7/site-packages/ipykernel_launcher.py:67: RuntimeWarning: divide by zero encountered in log\n",
      "/Users/eliasmann/opt/anaconda3/envs/mlenv2022/lib/python3.7/site-packages/ipykernel_launcher.py:67: RuntimeWarning: invalid value encountered in multiply\n",
      "/Users/eliasmann/opt/anaconda3/envs/mlenv2022/lib/python3.7/site-packages/numpy/core/_methods.py:179: RuntimeWarning: overflow encountered in reduce\n",
      "  ret = umr_sum(arr, axis, dtype, out, keepdims, where=where)\n",
      "Epoch: 24/100/Users/eliasmann/opt/anaconda3/envs/mlenv2022/lib/python3.7/site-packages/ipykernel_launcher.py:67: RuntimeWarning: divide by zero encountered in log\n",
      "/Users/eliasmann/opt/anaconda3/envs/mlenv2022/lib/python3.7/site-packages/ipykernel_launcher.py:67: RuntimeWarning: invalid value encountered in multiply\n",
      "/Users/eliasmann/opt/anaconda3/envs/mlenv2022/lib/python3.7/site-packages/numpy/core/_methods.py:179: RuntimeWarning: overflow encountered in reduce\n",
      "  ret = umr_sum(arr, axis, dtype, out, keepdims, where=where)\n",
      "Epoch: 25/100/Users/eliasmann/opt/anaconda3/envs/mlenv2022/lib/python3.7/site-packages/ipykernel_launcher.py:67: RuntimeWarning: divide by zero encountered in log\n",
      "/Users/eliasmann/opt/anaconda3/envs/mlenv2022/lib/python3.7/site-packages/ipykernel_launcher.py:67: RuntimeWarning: invalid value encountered in multiply\n",
      "/Users/eliasmann/opt/anaconda3/envs/mlenv2022/lib/python3.7/site-packages/numpy/core/_methods.py:179: RuntimeWarning: overflow encountered in reduce\n",
      "  ret = umr_sum(arr, axis, dtype, out, keepdims, where=where)\n",
      "Epoch: 26/100/Users/eliasmann/opt/anaconda3/envs/mlenv2022/lib/python3.7/site-packages/ipykernel_launcher.py:67: RuntimeWarning: divide by zero encountered in log\n",
      "/Users/eliasmann/opt/anaconda3/envs/mlenv2022/lib/python3.7/site-packages/ipykernel_launcher.py:67: RuntimeWarning: invalid value encountered in multiply\n",
      "/Users/eliasmann/opt/anaconda3/envs/mlenv2022/lib/python3.7/site-packages/numpy/core/_methods.py:179: RuntimeWarning: overflow encountered in reduce\n",
      "  ret = umr_sum(arr, axis, dtype, out, keepdims, where=where)\n",
      "Epoch: 27/100/Users/eliasmann/opt/anaconda3/envs/mlenv2022/lib/python3.7/site-packages/ipykernel_launcher.py:67: RuntimeWarning: divide by zero encountered in log\n",
      "/Users/eliasmann/opt/anaconda3/envs/mlenv2022/lib/python3.7/site-packages/ipykernel_launcher.py:67: RuntimeWarning: invalid value encountered in multiply\n",
      "/Users/eliasmann/opt/anaconda3/envs/mlenv2022/lib/python3.7/site-packages/numpy/core/_methods.py:179: RuntimeWarning: overflow encountered in reduce\n",
      "  ret = umr_sum(arr, axis, dtype, out, keepdims, where=where)\n",
      "Epoch: 28/100/Users/eliasmann/opt/anaconda3/envs/mlenv2022/lib/python3.7/site-packages/ipykernel_launcher.py:67: RuntimeWarning: divide by zero encountered in log\n",
      "/Users/eliasmann/opt/anaconda3/envs/mlenv2022/lib/python3.7/site-packages/ipykernel_launcher.py:67: RuntimeWarning: invalid value encountered in multiply\n",
      "/Users/eliasmann/opt/anaconda3/envs/mlenv2022/lib/python3.7/site-packages/numpy/core/_methods.py:179: RuntimeWarning: overflow encountered in reduce\n",
      "  ret = umr_sum(arr, axis, dtype, out, keepdims, where=where)\n",
      "Epoch: 30/100/Users/eliasmann/opt/anaconda3/envs/mlenv2022/lib/python3.7/site-packages/ipykernel_launcher.py:67: RuntimeWarning: divide by zero encountered in log\n",
      "/Users/eliasmann/opt/anaconda3/envs/mlenv2022/lib/python3.7/site-packages/ipykernel_launcher.py:67: RuntimeWarning: invalid value encountered in multiply\n",
      "/Users/eliasmann/opt/anaconda3/envs/mlenv2022/lib/python3.7/site-packages/numpy/core/_methods.py:179: RuntimeWarning: overflow encountered in reduce\n",
      "  ret = umr_sum(arr, axis, dtype, out, keepdims, where=where)\n",
      "Epoch: 31/100/Users/eliasmann/opt/anaconda3/envs/mlenv2022/lib/python3.7/site-packages/ipykernel_launcher.py:67: RuntimeWarning: divide by zero encountered in log\n",
      "/Users/eliasmann/opt/anaconda3/envs/mlenv2022/lib/python3.7/site-packages/ipykernel_launcher.py:67: RuntimeWarning: invalid value encountered in multiply\n",
      "/Users/eliasmann/opt/anaconda3/envs/mlenv2022/lib/python3.7/site-packages/numpy/core/_methods.py:179: RuntimeWarning: overflow encountered in reduce\n",
      "  ret = umr_sum(arr, axis, dtype, out, keepdims, where=where)\n",
      "Epoch: 32/100/Users/eliasmann/opt/anaconda3/envs/mlenv2022/lib/python3.7/site-packages/ipykernel_launcher.py:67: RuntimeWarning: divide by zero encountered in log\n",
      "/Users/eliasmann/opt/anaconda3/envs/mlenv2022/lib/python3.7/site-packages/ipykernel_launcher.py:67: RuntimeWarning: invalid value encountered in multiply\n",
      "/Users/eliasmann/opt/anaconda3/envs/mlenv2022/lib/python3.7/site-packages/numpy/core/_methods.py:179: RuntimeWarning: overflow encountered in reduce\n",
      "  ret = umr_sum(arr, axis, dtype, out, keepdims, where=where)\n",
      "Epoch: 33/100/Users/eliasmann/opt/anaconda3/envs/mlenv2022/lib/python3.7/site-packages/ipykernel_launcher.py:67: RuntimeWarning: divide by zero encountered in log\n",
      "/Users/eliasmann/opt/anaconda3/envs/mlenv2022/lib/python3.7/site-packages/ipykernel_launcher.py:67: RuntimeWarning: invalid value encountered in multiply\n",
      "/Users/eliasmann/opt/anaconda3/envs/mlenv2022/lib/python3.7/site-packages/numpy/core/_methods.py:179: RuntimeWarning: overflow encountered in reduce\n",
      "  ret = umr_sum(arr, axis, dtype, out, keepdims, where=where)\n",
      "Epoch: 34/100/Users/eliasmann/opt/anaconda3/envs/mlenv2022/lib/python3.7/site-packages/ipykernel_launcher.py:67: RuntimeWarning: divide by zero encountered in log\n",
      "/Users/eliasmann/opt/anaconda3/envs/mlenv2022/lib/python3.7/site-packages/ipykernel_launcher.py:67: RuntimeWarning: invalid value encountered in multiply\n",
      "/Users/eliasmann/opt/anaconda3/envs/mlenv2022/lib/python3.7/site-packages/numpy/core/_methods.py:179: RuntimeWarning: overflow encountered in reduce\n",
      "  ret = umr_sum(arr, axis, dtype, out, keepdims, where=where)\n",
      "Epoch: 35/100/Users/eliasmann/opt/anaconda3/envs/mlenv2022/lib/python3.7/site-packages/ipykernel_launcher.py:67: RuntimeWarning: divide by zero encountered in log\n",
      "/Users/eliasmann/opt/anaconda3/envs/mlenv2022/lib/python3.7/site-packages/ipykernel_launcher.py:67: RuntimeWarning: invalid value encountered in multiply\n",
      "/Users/eliasmann/opt/anaconda3/envs/mlenv2022/lib/python3.7/site-packages/numpy/core/_methods.py:179: RuntimeWarning: overflow encountered in reduce\n",
      "  ret = umr_sum(arr, axis, dtype, out, keepdims, where=where)\n",
      "Epoch: 37/100/Users/eliasmann/opt/anaconda3/envs/mlenv2022/lib/python3.7/site-packages/ipykernel_launcher.py:67: RuntimeWarning: divide by zero encountered in log\n",
      "/Users/eliasmann/opt/anaconda3/envs/mlenv2022/lib/python3.7/site-packages/ipykernel_launcher.py:67: RuntimeWarning: invalid value encountered in multiply\n",
      "/Users/eliasmann/opt/anaconda3/envs/mlenv2022/lib/python3.7/site-packages/numpy/core/_methods.py:179: RuntimeWarning: overflow encountered in reduce\n",
      "  ret = umr_sum(arr, axis, dtype, out, keepdims, where=where)\n",
      "Epoch: 38/100/Users/eliasmann/opt/anaconda3/envs/mlenv2022/lib/python3.7/site-packages/ipykernel_launcher.py:67: RuntimeWarning: divide by zero encountered in log\n",
      "/Users/eliasmann/opt/anaconda3/envs/mlenv2022/lib/python3.7/site-packages/ipykernel_launcher.py:67: RuntimeWarning: invalid value encountered in multiply\n",
      "Epoch: 39/100/Users/eliasmann/opt/anaconda3/envs/mlenv2022/lib/python3.7/site-packages/ipykernel_launcher.py:67: RuntimeWarning: divide by zero encountered in log\n",
      "/Users/eliasmann/opt/anaconda3/envs/mlenv2022/lib/python3.7/site-packages/ipykernel_launcher.py:67: RuntimeWarning: invalid value encountered in multiply\n",
      "/Users/eliasmann/opt/anaconda3/envs/mlenv2022/lib/python3.7/site-packages/numpy/core/_methods.py:179: RuntimeWarning: overflow encountered in reduce\n",
      "  ret = umr_sum(arr, axis, dtype, out, keepdims, where=where)\n",
      "Epoch: 40/100/Users/eliasmann/opt/anaconda3/envs/mlenv2022/lib/python3.7/site-packages/ipykernel_launcher.py:67: RuntimeWarning: divide by zero encountered in log\n",
      "/Users/eliasmann/opt/anaconda3/envs/mlenv2022/lib/python3.7/site-packages/ipykernel_launcher.py:67: RuntimeWarning: invalid value encountered in multiply\n",
      "/Users/eliasmann/opt/anaconda3/envs/mlenv2022/lib/python3.7/site-packages/numpy/core/_methods.py:179: RuntimeWarning: overflow encountered in reduce\n",
      "  ret = umr_sum(arr, axis, dtype, out, keepdims, where=where)\n",
      "Epoch: 41/100/Users/eliasmann/opt/anaconda3/envs/mlenv2022/lib/python3.7/site-packages/ipykernel_launcher.py:67: RuntimeWarning: divide by zero encountered in log\n",
      "/Users/eliasmann/opt/anaconda3/envs/mlenv2022/lib/python3.7/site-packages/ipykernel_launcher.py:67: RuntimeWarning: invalid value encountered in multiply\n",
      "/Users/eliasmann/opt/anaconda3/envs/mlenv2022/lib/python3.7/site-packages/numpy/core/_methods.py:179: RuntimeWarning: overflow encountered in reduce\n",
      "  ret = umr_sum(arr, axis, dtype, out, keepdims, where=where)\n",
      "Epoch: 42/100/Users/eliasmann/opt/anaconda3/envs/mlenv2022/lib/python3.7/site-packages/ipykernel_launcher.py:67: RuntimeWarning: divide by zero encountered in log\n",
      "/Users/eliasmann/opt/anaconda3/envs/mlenv2022/lib/python3.7/site-packages/ipykernel_launcher.py:67: RuntimeWarning: invalid value encountered in multiply\n",
      "/Users/eliasmann/opt/anaconda3/envs/mlenv2022/lib/python3.7/site-packages/numpy/core/_methods.py:179: RuntimeWarning: overflow encountered in reduce\n",
      "  ret = umr_sum(arr, axis, dtype, out, keepdims, where=where)\n",
      "Epoch: 43/100/Users/eliasmann/opt/anaconda3/envs/mlenv2022/lib/python3.7/site-packages/ipykernel_launcher.py:67: RuntimeWarning: divide by zero encountered in log\n",
      "/Users/eliasmann/opt/anaconda3/envs/mlenv2022/lib/python3.7/site-packages/ipykernel_launcher.py:67: RuntimeWarning: invalid value encountered in multiply\n",
      "/Users/eliasmann/opt/anaconda3/envs/mlenv2022/lib/python3.7/site-packages/numpy/core/_methods.py:179: RuntimeWarning: overflow encountered in reduce\n",
      "  ret = umr_sum(arr, axis, dtype, out, keepdims, where=where)\n",
      "Epoch: 45/100/Users/eliasmann/opt/anaconda3/envs/mlenv2022/lib/python3.7/site-packages/ipykernel_launcher.py:67: RuntimeWarning: divide by zero encountered in log\n",
      "/Users/eliasmann/opt/anaconda3/envs/mlenv2022/lib/python3.7/site-packages/ipykernel_launcher.py:67: RuntimeWarning: invalid value encountered in multiply\n",
      "/Users/eliasmann/opt/anaconda3/envs/mlenv2022/lib/python3.7/site-packages/numpy/core/_methods.py:179: RuntimeWarning: overflow encountered in reduce\n",
      "  ret = umr_sum(arr, axis, dtype, out, keepdims, where=where)\n",
      "Epoch: 46/100/Users/eliasmann/opt/anaconda3/envs/mlenv2022/lib/python3.7/site-packages/ipykernel_launcher.py:67: RuntimeWarning: divide by zero encountered in log\n",
      "/Users/eliasmann/opt/anaconda3/envs/mlenv2022/lib/python3.7/site-packages/ipykernel_launcher.py:67: RuntimeWarning: invalid value encountered in multiply\n",
      "/Users/eliasmann/opt/anaconda3/envs/mlenv2022/lib/python3.7/site-packages/numpy/core/_methods.py:179: RuntimeWarning: overflow encountered in reduce\n",
      "  ret = umr_sum(arr, axis, dtype, out, keepdims, where=where)\n",
      "Epoch: 47/100/Users/eliasmann/opt/anaconda3/envs/mlenv2022/lib/python3.7/site-packages/ipykernel_launcher.py:67: RuntimeWarning: divide by zero encountered in log\n",
      "/Users/eliasmann/opt/anaconda3/envs/mlenv2022/lib/python3.7/site-packages/ipykernel_launcher.py:67: RuntimeWarning: invalid value encountered in multiply\n",
      "/Users/eliasmann/opt/anaconda3/envs/mlenv2022/lib/python3.7/site-packages/numpy/core/_methods.py:179: RuntimeWarning: overflow encountered in reduce\n",
      "  ret = umr_sum(arr, axis, dtype, out, keepdims, where=where)\n",
      "Epoch: 48/100/Users/eliasmann/opt/anaconda3/envs/mlenv2022/lib/python3.7/site-packages/ipykernel_launcher.py:67: RuntimeWarning: divide by zero encountered in log\n",
      "/Users/eliasmann/opt/anaconda3/envs/mlenv2022/lib/python3.7/site-packages/ipykernel_launcher.py:67: RuntimeWarning: invalid value encountered in multiply\n",
      "/Users/eliasmann/opt/anaconda3/envs/mlenv2022/lib/python3.7/site-packages/numpy/core/_methods.py:179: RuntimeWarning: overflow encountered in reduce\n",
      "  ret = umr_sum(arr, axis, dtype, out, keepdims, where=where)\n",
      "Epoch: 49/100/Users/eliasmann/opt/anaconda3/envs/mlenv2022/lib/python3.7/site-packages/ipykernel_launcher.py:67: RuntimeWarning: divide by zero encountered in log\n",
      "/Users/eliasmann/opt/anaconda3/envs/mlenv2022/lib/python3.7/site-packages/ipykernel_launcher.py:67: RuntimeWarning: invalid value encountered in multiply\n",
      "/Users/eliasmann/opt/anaconda3/envs/mlenv2022/lib/python3.7/site-packages/numpy/core/_methods.py:179: RuntimeWarning: overflow encountered in reduce\n",
      "  ret = umr_sum(arr, axis, dtype, out, keepdims, where=where)\n",
      "Epoch: 50/100/Users/eliasmann/opt/anaconda3/envs/mlenv2022/lib/python3.7/site-packages/ipykernel_launcher.py:67: RuntimeWarning: divide by zero encountered in log\n",
      "/Users/eliasmann/opt/anaconda3/envs/mlenv2022/lib/python3.7/site-packages/ipykernel_launcher.py:67: RuntimeWarning: invalid value encountered in multiply\n",
      "/Users/eliasmann/opt/anaconda3/envs/mlenv2022/lib/python3.7/site-packages/numpy/core/_methods.py:179: RuntimeWarning: overflow encountered in reduce\n",
      "  ret = umr_sum(arr, axis, dtype, out, keepdims, where=where)\n",
      "Epoch: 52/100/Users/eliasmann/opt/anaconda3/envs/mlenv2022/lib/python3.7/site-packages/ipykernel_launcher.py:67: RuntimeWarning: divide by zero encountered in log\n",
      "/Users/eliasmann/opt/anaconda3/envs/mlenv2022/lib/python3.7/site-packages/ipykernel_launcher.py:67: RuntimeWarning: invalid value encountered in multiply\n",
      "/Users/eliasmann/opt/anaconda3/envs/mlenv2022/lib/python3.7/site-packages/numpy/core/_methods.py:179: RuntimeWarning: overflow encountered in reduce\n",
      "  ret = umr_sum(arr, axis, dtype, out, keepdims, where=where)\n",
      "Epoch: 54/100/Users/eliasmann/opt/anaconda3/envs/mlenv2022/lib/python3.7/site-packages/ipykernel_launcher.py:67: RuntimeWarning: divide by zero encountered in log\n",
      "/Users/eliasmann/opt/anaconda3/envs/mlenv2022/lib/python3.7/site-packages/ipykernel_launcher.py:67: RuntimeWarning: invalid value encountered in multiply\n",
      "/Users/eliasmann/opt/anaconda3/envs/mlenv2022/lib/python3.7/site-packages/numpy/core/_methods.py:179: RuntimeWarning: overflow encountered in reduce\n",
      "  ret = umr_sum(arr, axis, dtype, out, keepdims, where=where)\n",
      "Epoch: 55/100/Users/eliasmann/opt/anaconda3/envs/mlenv2022/lib/python3.7/site-packages/ipykernel_launcher.py:67: RuntimeWarning: divide by zero encountered in log\n",
      "/Users/eliasmann/opt/anaconda3/envs/mlenv2022/lib/python3.7/site-packages/ipykernel_launcher.py:67: RuntimeWarning: invalid value encountered in multiply\n",
      "/Users/eliasmann/opt/anaconda3/envs/mlenv2022/lib/python3.7/site-packages/numpy/core/_methods.py:179: RuntimeWarning: overflow encountered in reduce\n",
      "  ret = umr_sum(arr, axis, dtype, out, keepdims, where=where)\n",
      "Epoch: 56/100/Users/eliasmann/opt/anaconda3/envs/mlenv2022/lib/python3.7/site-packages/ipykernel_launcher.py:67: RuntimeWarning: divide by zero encountered in log\n",
      "/Users/eliasmann/opt/anaconda3/envs/mlenv2022/lib/python3.7/site-packages/ipykernel_launcher.py:67: RuntimeWarning: invalid value encountered in multiply\n",
      "/Users/eliasmann/opt/anaconda3/envs/mlenv2022/lib/python3.7/site-packages/numpy/core/_methods.py:179: RuntimeWarning: overflow encountered in reduce\n",
      "  ret = umr_sum(arr, axis, dtype, out, keepdims, where=where)\n",
      "Epoch: 57/100/Users/eliasmann/opt/anaconda3/envs/mlenv2022/lib/python3.7/site-packages/ipykernel_launcher.py:67: RuntimeWarning: divide by zero encountered in log\n",
      "/Users/eliasmann/opt/anaconda3/envs/mlenv2022/lib/python3.7/site-packages/ipykernel_launcher.py:67: RuntimeWarning: invalid value encountered in multiply\n",
      "/Users/eliasmann/opt/anaconda3/envs/mlenv2022/lib/python3.7/site-packages/numpy/core/_methods.py:179: RuntimeWarning: overflow encountered in reduce\n",
      "  ret = umr_sum(arr, axis, dtype, out, keepdims, where=where)\n",
      "Epoch: 58/100/Users/eliasmann/opt/anaconda3/envs/mlenv2022/lib/python3.7/site-packages/ipykernel_launcher.py:67: RuntimeWarning: divide by zero encountered in log\n",
      "/Users/eliasmann/opt/anaconda3/envs/mlenv2022/lib/python3.7/site-packages/ipykernel_launcher.py:67: RuntimeWarning: invalid value encountered in multiply\n",
      "/Users/eliasmann/opt/anaconda3/envs/mlenv2022/lib/python3.7/site-packages/numpy/core/_methods.py:179: RuntimeWarning: overflow encountered in reduce\n",
      "  ret = umr_sum(arr, axis, dtype, out, keepdims, where=where)\n",
      "Epoch: 59/100/Users/eliasmann/opt/anaconda3/envs/mlenv2022/lib/python3.7/site-packages/ipykernel_launcher.py:67: RuntimeWarning: divide by zero encountered in log\n",
      "/Users/eliasmann/opt/anaconda3/envs/mlenv2022/lib/python3.7/site-packages/ipykernel_launcher.py:67: RuntimeWarning: invalid value encountered in multiply\n",
      "/Users/eliasmann/opt/anaconda3/envs/mlenv2022/lib/python3.7/site-packages/numpy/core/_methods.py:179: RuntimeWarning: overflow encountered in reduce\n",
      "  ret = umr_sum(arr, axis, dtype, out, keepdims, where=where)\n",
      "Epoch: 60/100/Users/eliasmann/opt/anaconda3/envs/mlenv2022/lib/python3.7/site-packages/ipykernel_launcher.py:67: RuntimeWarning: divide by zero encountered in log\n",
      "/Users/eliasmann/opt/anaconda3/envs/mlenv2022/lib/python3.7/site-packages/ipykernel_launcher.py:67: RuntimeWarning: invalid value encountered in multiply\n",
      "/Users/eliasmann/opt/anaconda3/envs/mlenv2022/lib/python3.7/site-packages/numpy/core/_methods.py:179: RuntimeWarning: overflow encountered in reduce\n",
      "  ret = umr_sum(arr, axis, dtype, out, keepdims, where=where)\n",
      "Epoch: 61/100/Users/eliasmann/opt/anaconda3/envs/mlenv2022/lib/python3.7/site-packages/ipykernel_launcher.py:67: RuntimeWarning: divide by zero encountered in log\n",
      "/Users/eliasmann/opt/anaconda3/envs/mlenv2022/lib/python3.7/site-packages/ipykernel_launcher.py:67: RuntimeWarning: invalid value encountered in multiply\n",
      "/Users/eliasmann/opt/anaconda3/envs/mlenv2022/lib/python3.7/site-packages/numpy/core/_methods.py:179: RuntimeWarning: overflow encountered in reduce\n",
      "  ret = umr_sum(arr, axis, dtype, out, keepdims, where=where)\n",
      "Epoch: 63/100/Users/eliasmann/opt/anaconda3/envs/mlenv2022/lib/python3.7/site-packages/ipykernel_launcher.py:67: RuntimeWarning: divide by zero encountered in log\n",
      "/Users/eliasmann/opt/anaconda3/envs/mlenv2022/lib/python3.7/site-packages/ipykernel_launcher.py:67: RuntimeWarning: invalid value encountered in multiply\n",
      "/Users/eliasmann/opt/anaconda3/envs/mlenv2022/lib/python3.7/site-packages/numpy/core/_methods.py:179: RuntimeWarning: overflow encountered in reduce\n",
      "  ret = umr_sum(arr, axis, dtype, out, keepdims, where=where)\n",
      "Epoch: 64/100/Users/eliasmann/opt/anaconda3/envs/mlenv2022/lib/python3.7/site-packages/ipykernel_launcher.py:67: RuntimeWarning: divide by zero encountered in log\n",
      "/Users/eliasmann/opt/anaconda3/envs/mlenv2022/lib/python3.7/site-packages/ipykernel_launcher.py:67: RuntimeWarning: invalid value encountered in multiply\n",
      "/Users/eliasmann/opt/anaconda3/envs/mlenv2022/lib/python3.7/site-packages/numpy/core/_methods.py:179: RuntimeWarning: overflow encountered in reduce\n",
      "  ret = umr_sum(arr, axis, dtype, out, keepdims, where=where)\n",
      "Epoch: 65/100/Users/eliasmann/opt/anaconda3/envs/mlenv2022/lib/python3.7/site-packages/ipykernel_launcher.py:67: RuntimeWarning: divide by zero encountered in log\n",
      "/Users/eliasmann/opt/anaconda3/envs/mlenv2022/lib/python3.7/site-packages/ipykernel_launcher.py:67: RuntimeWarning: invalid value encountered in multiply\n",
      "/Users/eliasmann/opt/anaconda3/envs/mlenv2022/lib/python3.7/site-packages/numpy/core/_methods.py:179: RuntimeWarning: overflow encountered in reduce\n",
      "  ret = umr_sum(arr, axis, dtype, out, keepdims, where=where)\n",
      "Epoch: 66/100/Users/eliasmann/opt/anaconda3/envs/mlenv2022/lib/python3.7/site-packages/ipykernel_launcher.py:67: RuntimeWarning: divide by zero encountered in log\n",
      "/Users/eliasmann/opt/anaconda3/envs/mlenv2022/lib/python3.7/site-packages/ipykernel_launcher.py:67: RuntimeWarning: invalid value encountered in multiply\n",
      "/Users/eliasmann/opt/anaconda3/envs/mlenv2022/lib/python3.7/site-packages/numpy/core/_methods.py:179: RuntimeWarning: overflow encountered in reduce\n",
      "  ret = umr_sum(arr, axis, dtype, out, keepdims, where=where)\n",
      "Epoch: 67/100/Users/eliasmann/opt/anaconda3/envs/mlenv2022/lib/python3.7/site-packages/ipykernel_launcher.py:67: RuntimeWarning: divide by zero encountered in log\n",
      "/Users/eliasmann/opt/anaconda3/envs/mlenv2022/lib/python3.7/site-packages/ipykernel_launcher.py:67: RuntimeWarning: invalid value encountered in multiply\n",
      "/Users/eliasmann/opt/anaconda3/envs/mlenv2022/lib/python3.7/site-packages/numpy/core/_methods.py:179: RuntimeWarning: overflow encountered in reduce\n",
      "  ret = umr_sum(arr, axis, dtype, out, keepdims, where=where)\n",
      "Epoch: 68/100/Users/eliasmann/opt/anaconda3/envs/mlenv2022/lib/python3.7/site-packages/ipykernel_launcher.py:67: RuntimeWarning: divide by zero encountered in log\n",
      "/Users/eliasmann/opt/anaconda3/envs/mlenv2022/lib/python3.7/site-packages/ipykernel_launcher.py:67: RuntimeWarning: invalid value encountered in multiply\n",
      "Epoch: 69/100/Users/eliasmann/opt/anaconda3/envs/mlenv2022/lib/python3.7/site-packages/ipykernel_launcher.py:67: RuntimeWarning: divide by zero encountered in log\n",
      "/Users/eliasmann/opt/anaconda3/envs/mlenv2022/lib/python3.7/site-packages/ipykernel_launcher.py:67: RuntimeWarning: invalid value encountered in multiply\n",
      "/Users/eliasmann/opt/anaconda3/envs/mlenv2022/lib/python3.7/site-packages/numpy/core/_methods.py:179: RuntimeWarning: overflow encountered in reduce\n",
      "  ret = umr_sum(arr, axis, dtype, out, keepdims, where=where)\n",
      "Epoch: 71/100/Users/eliasmann/opt/anaconda3/envs/mlenv2022/lib/python3.7/site-packages/ipykernel_launcher.py:67: RuntimeWarning: divide by zero encountered in log\n",
      "/Users/eliasmann/opt/anaconda3/envs/mlenv2022/lib/python3.7/site-packages/ipykernel_launcher.py:67: RuntimeWarning: invalid value encountered in multiply\n",
      "/Users/eliasmann/opt/anaconda3/envs/mlenv2022/lib/python3.7/site-packages/numpy/core/_methods.py:179: RuntimeWarning: overflow encountered in reduce\n",
      "  ret = umr_sum(arr, axis, dtype, out, keepdims, where=where)\n",
      "Epoch: 73/100/Users/eliasmann/opt/anaconda3/envs/mlenv2022/lib/python3.7/site-packages/ipykernel_launcher.py:67: RuntimeWarning: divide by zero encountered in log\n",
      "/Users/eliasmann/opt/anaconda3/envs/mlenv2022/lib/python3.7/site-packages/ipykernel_launcher.py:67: RuntimeWarning: invalid value encountered in multiply\n",
      "/Users/eliasmann/opt/anaconda3/envs/mlenv2022/lib/python3.7/site-packages/numpy/core/_methods.py:179: RuntimeWarning: overflow encountered in reduce\n",
      "  ret = umr_sum(arr, axis, dtype, out, keepdims, where=where)\n",
      "Epoch: 74/100/Users/eliasmann/opt/anaconda3/envs/mlenv2022/lib/python3.7/site-packages/ipykernel_launcher.py:67: RuntimeWarning: divide by zero encountered in log\n",
      "/Users/eliasmann/opt/anaconda3/envs/mlenv2022/lib/python3.7/site-packages/ipykernel_launcher.py:67: RuntimeWarning: invalid value encountered in multiply\n",
      "/Users/eliasmann/opt/anaconda3/envs/mlenv2022/lib/python3.7/site-packages/numpy/core/_methods.py:179: RuntimeWarning: overflow encountered in reduce\n",
      "  ret = umr_sum(arr, axis, dtype, out, keepdims, where=where)\n",
      "Epoch: 75/100/Users/eliasmann/opt/anaconda3/envs/mlenv2022/lib/python3.7/site-packages/ipykernel_launcher.py:67: RuntimeWarning: divide by zero encountered in log\n",
      "/Users/eliasmann/opt/anaconda3/envs/mlenv2022/lib/python3.7/site-packages/ipykernel_launcher.py:67: RuntimeWarning: invalid value encountered in multiply\n",
      "/Users/eliasmann/opt/anaconda3/envs/mlenv2022/lib/python3.7/site-packages/numpy/core/_methods.py:179: RuntimeWarning: overflow encountered in reduce\n",
      "  ret = umr_sum(arr, axis, dtype, out, keepdims, where=where)\n",
      "Epoch: 76/100/Users/eliasmann/opt/anaconda3/envs/mlenv2022/lib/python3.7/site-packages/ipykernel_launcher.py:67: RuntimeWarning: divide by zero encountered in log\n",
      "/Users/eliasmann/opt/anaconda3/envs/mlenv2022/lib/python3.7/site-packages/ipykernel_launcher.py:67: RuntimeWarning: invalid value encountered in multiply\n",
      "/Users/eliasmann/opt/anaconda3/envs/mlenv2022/lib/python3.7/site-packages/numpy/core/_methods.py:179: RuntimeWarning: overflow encountered in reduce\n",
      "  ret = umr_sum(arr, axis, dtype, out, keepdims, where=where)\n",
      "Epoch: 77/100/Users/eliasmann/opt/anaconda3/envs/mlenv2022/lib/python3.7/site-packages/ipykernel_launcher.py:67: RuntimeWarning: divide by zero encountered in log\n",
      "/Users/eliasmann/opt/anaconda3/envs/mlenv2022/lib/python3.7/site-packages/ipykernel_launcher.py:67: RuntimeWarning: invalid value encountered in multiply\n",
      "/Users/eliasmann/opt/anaconda3/envs/mlenv2022/lib/python3.7/site-packages/numpy/core/_methods.py:179: RuntimeWarning: overflow encountered in reduce\n",
      "  ret = umr_sum(arr, axis, dtype, out, keepdims, where=where)\n",
      "Epoch: 78/100/Users/eliasmann/opt/anaconda3/envs/mlenv2022/lib/python3.7/site-packages/ipykernel_launcher.py:67: RuntimeWarning: divide by zero encountered in log\n",
      "/Users/eliasmann/opt/anaconda3/envs/mlenv2022/lib/python3.7/site-packages/ipykernel_launcher.py:67: RuntimeWarning: invalid value encountered in multiply\n",
      "/Users/eliasmann/opt/anaconda3/envs/mlenv2022/lib/python3.7/site-packages/numpy/core/_methods.py:179: RuntimeWarning: overflow encountered in reduce\n",
      "  ret = umr_sum(arr, axis, dtype, out, keepdims, where=where)\n",
      "Epoch: 80/100/Users/eliasmann/opt/anaconda3/envs/mlenv2022/lib/python3.7/site-packages/ipykernel_launcher.py:67: RuntimeWarning: divide by zero encountered in log\n",
      "/Users/eliasmann/opt/anaconda3/envs/mlenv2022/lib/python3.7/site-packages/ipykernel_launcher.py:67: RuntimeWarning: invalid value encountered in multiply\n",
      "/Users/eliasmann/opt/anaconda3/envs/mlenv2022/lib/python3.7/site-packages/numpy/core/_methods.py:179: RuntimeWarning: overflow encountered in reduce\n",
      "  ret = umr_sum(arr, axis, dtype, out, keepdims, where=where)\n",
      "Epoch: 82/100/Users/eliasmann/opt/anaconda3/envs/mlenv2022/lib/python3.7/site-packages/ipykernel_launcher.py:67: RuntimeWarning: divide by zero encountered in log\n",
      "/Users/eliasmann/opt/anaconda3/envs/mlenv2022/lib/python3.7/site-packages/ipykernel_launcher.py:67: RuntimeWarning: invalid value encountered in multiply\n",
      "/Users/eliasmann/opt/anaconda3/envs/mlenv2022/lib/python3.7/site-packages/numpy/core/_methods.py:179: RuntimeWarning: overflow encountered in reduce\n",
      "  ret = umr_sum(arr, axis, dtype, out, keepdims, where=where)\n",
      "Epoch: 84/100/Users/eliasmann/opt/anaconda3/envs/mlenv2022/lib/python3.7/site-packages/ipykernel_launcher.py:67: RuntimeWarning: divide by zero encountered in log\n",
      "/Users/eliasmann/opt/anaconda3/envs/mlenv2022/lib/python3.7/site-packages/ipykernel_launcher.py:67: RuntimeWarning: invalid value encountered in multiply\n",
      "/Users/eliasmann/opt/anaconda3/envs/mlenv2022/lib/python3.7/site-packages/numpy/core/_methods.py:179: RuntimeWarning: overflow encountered in reduce\n",
      "  ret = umr_sum(arr, axis, dtype, out, keepdims, where=where)\n",
      "Epoch: 85/100/Users/eliasmann/opt/anaconda3/envs/mlenv2022/lib/python3.7/site-packages/ipykernel_launcher.py:67: RuntimeWarning: divide by zero encountered in log\n",
      "/Users/eliasmann/opt/anaconda3/envs/mlenv2022/lib/python3.7/site-packages/ipykernel_launcher.py:67: RuntimeWarning: invalid value encountered in multiply\n",
      "/Users/eliasmann/opt/anaconda3/envs/mlenv2022/lib/python3.7/site-packages/numpy/core/_methods.py:179: RuntimeWarning: overflow encountered in reduce\n",
      "  ret = umr_sum(arr, axis, dtype, out, keepdims, where=where)\n",
      "Epoch: 86/100/Users/eliasmann/opt/anaconda3/envs/mlenv2022/lib/python3.7/site-packages/ipykernel_launcher.py:67: RuntimeWarning: divide by zero encountered in log\n",
      "/Users/eliasmann/opt/anaconda3/envs/mlenv2022/lib/python3.7/site-packages/ipykernel_launcher.py:67: RuntimeWarning: invalid value encountered in multiply\n",
      "/Users/eliasmann/opt/anaconda3/envs/mlenv2022/lib/python3.7/site-packages/numpy/core/_methods.py:179: RuntimeWarning: overflow encountered in reduce\n",
      "  ret = umr_sum(arr, axis, dtype, out, keepdims, where=where)\n",
      "Epoch: 87/100/Users/eliasmann/opt/anaconda3/envs/mlenv2022/lib/python3.7/site-packages/ipykernel_launcher.py:67: RuntimeWarning: divide by zero encountered in log\n",
      "/Users/eliasmann/opt/anaconda3/envs/mlenv2022/lib/python3.7/site-packages/ipykernel_launcher.py:67: RuntimeWarning: invalid value encountered in multiply\n",
      "/Users/eliasmann/opt/anaconda3/envs/mlenv2022/lib/python3.7/site-packages/numpy/core/_methods.py:179: RuntimeWarning: overflow encountered in reduce\n",
      "  ret = umr_sum(arr, axis, dtype, out, keepdims, where=where)\n",
      "Epoch: 88/100/Users/eliasmann/opt/anaconda3/envs/mlenv2022/lib/python3.7/site-packages/ipykernel_launcher.py:67: RuntimeWarning: divide by zero encountered in log\n",
      "/Users/eliasmann/opt/anaconda3/envs/mlenv2022/lib/python3.7/site-packages/ipykernel_launcher.py:67: RuntimeWarning: invalid value encountered in multiply\n",
      "/Users/eliasmann/opt/anaconda3/envs/mlenv2022/lib/python3.7/site-packages/numpy/core/_methods.py:179: RuntimeWarning: overflow encountered in reduce\n",
      "  ret = umr_sum(arr, axis, dtype, out, keepdims, where=where)\n",
      "Epoch: 89/100/Users/eliasmann/opt/anaconda3/envs/mlenv2022/lib/python3.7/site-packages/ipykernel_launcher.py:67: RuntimeWarning: divide by zero encountered in log\n",
      "/Users/eliasmann/opt/anaconda3/envs/mlenv2022/lib/python3.7/site-packages/ipykernel_launcher.py:67: RuntimeWarning: invalid value encountered in multiply\n",
      "/Users/eliasmann/opt/anaconda3/envs/mlenv2022/lib/python3.7/site-packages/numpy/core/_methods.py:179: RuntimeWarning: overflow encountered in reduce\n",
      "  ret = umr_sum(arr, axis, dtype, out, keepdims, where=where)\n",
      "Epoch: 90/100/Users/eliasmann/opt/anaconda3/envs/mlenv2022/lib/python3.7/site-packages/ipykernel_launcher.py:67: RuntimeWarning: divide by zero encountered in log\n",
      "/Users/eliasmann/opt/anaconda3/envs/mlenv2022/lib/python3.7/site-packages/ipykernel_launcher.py:67: RuntimeWarning: invalid value encountered in multiply\n",
      "/Users/eliasmann/opt/anaconda3/envs/mlenv2022/lib/python3.7/site-packages/numpy/core/_methods.py:179: RuntimeWarning: overflow encountered in reduce\n",
      "  ret = umr_sum(arr, axis, dtype, out, keepdims, where=where)\n",
      "Epoch: 91/100/Users/eliasmann/opt/anaconda3/envs/mlenv2022/lib/python3.7/site-packages/ipykernel_launcher.py:67: RuntimeWarning: divide by zero encountered in log\n",
      "/Users/eliasmann/opt/anaconda3/envs/mlenv2022/lib/python3.7/site-packages/ipykernel_launcher.py:67: RuntimeWarning: invalid value encountered in multiply\n",
      "/Users/eliasmann/opt/anaconda3/envs/mlenv2022/lib/python3.7/site-packages/numpy/core/_methods.py:179: RuntimeWarning: overflow encountered in reduce\n",
      "  ret = umr_sum(arr, axis, dtype, out, keepdims, where=where)\n",
      "Epoch: 92/100/Users/eliasmann/opt/anaconda3/envs/mlenv2022/lib/python3.7/site-packages/ipykernel_launcher.py:67: RuntimeWarning: divide by zero encountered in log\n",
      "/Users/eliasmann/opt/anaconda3/envs/mlenv2022/lib/python3.7/site-packages/ipykernel_launcher.py:67: RuntimeWarning: invalid value encountered in multiply\n",
      "/Users/eliasmann/opt/anaconda3/envs/mlenv2022/lib/python3.7/site-packages/numpy/core/_methods.py:179: RuntimeWarning: overflow encountered in reduce\n",
      "  ret = umr_sum(arr, axis, dtype, out, keepdims, where=where)\n",
      "Epoch: 93/100/Users/eliasmann/opt/anaconda3/envs/mlenv2022/lib/python3.7/site-packages/ipykernel_launcher.py:67: RuntimeWarning: divide by zero encountered in log\n",
      "/Users/eliasmann/opt/anaconda3/envs/mlenv2022/lib/python3.7/site-packages/ipykernel_launcher.py:67: RuntimeWarning: invalid value encountered in multiply\n",
      "/Users/eliasmann/opt/anaconda3/envs/mlenv2022/lib/python3.7/site-packages/numpy/core/_methods.py:179: RuntimeWarning: overflow encountered in reduce\n",
      "  ret = umr_sum(arr, axis, dtype, out, keepdims, where=where)\n",
      "Epoch: 94/100/Users/eliasmann/opt/anaconda3/envs/mlenv2022/lib/python3.7/site-packages/ipykernel_launcher.py:67: RuntimeWarning: divide by zero encountered in log\n",
      "/Users/eliasmann/opt/anaconda3/envs/mlenv2022/lib/python3.7/site-packages/ipykernel_launcher.py:67: RuntimeWarning: invalid value encountered in multiply\n",
      "/Users/eliasmann/opt/anaconda3/envs/mlenv2022/lib/python3.7/site-packages/numpy/core/_methods.py:179: RuntimeWarning: overflow encountered in reduce\n",
      "  ret = umr_sum(arr, axis, dtype, out, keepdims, where=where)\n",
      "Epoch: 95/100/Users/eliasmann/opt/anaconda3/envs/mlenv2022/lib/python3.7/site-packages/ipykernel_launcher.py:67: RuntimeWarning: divide by zero encountered in log\n",
      "/Users/eliasmann/opt/anaconda3/envs/mlenv2022/lib/python3.7/site-packages/ipykernel_launcher.py:67: RuntimeWarning: invalid value encountered in multiply\n",
      "/Users/eliasmann/opt/anaconda3/envs/mlenv2022/lib/python3.7/site-packages/numpy/core/_methods.py:179: RuntimeWarning: overflow encountered in reduce\n",
      "  ret = umr_sum(arr, axis, dtype, out, keepdims, where=where)\n",
      "Epoch: 97/100/Users/eliasmann/opt/anaconda3/envs/mlenv2022/lib/python3.7/site-packages/ipykernel_launcher.py:67: RuntimeWarning: divide by zero encountered in log\n",
      "/Users/eliasmann/opt/anaconda3/envs/mlenv2022/lib/python3.7/site-packages/ipykernel_launcher.py:67: RuntimeWarning: invalid value encountered in multiply\n",
      "/Users/eliasmann/opt/anaconda3/envs/mlenv2022/lib/python3.7/site-packages/numpy/core/_methods.py:179: RuntimeWarning: overflow encountered in reduce\n",
      "  ret = umr_sum(arr, axis, dtype, out, keepdims, where=where)\n",
      "Epoch: 99/100/Users/eliasmann/opt/anaconda3/envs/mlenv2022/lib/python3.7/site-packages/ipykernel_launcher.py:67: RuntimeWarning: divide by zero encountered in log\n",
      "/Users/eliasmann/opt/anaconda3/envs/mlenv2022/lib/python3.7/site-packages/ipykernel_launcher.py:67: RuntimeWarning: invalid value encountered in multiply\n",
      "/Users/eliasmann/opt/anaconda3/envs/mlenv2022/lib/python3.7/site-packages/numpy/core/_methods.py:179: RuntimeWarning: overflow encountered in reduce\n",
      "  ret = umr_sum(arr, axis, dtype, out, keepdims, where=where)\n",
      "Epoch: 100/100/Users/eliasmann/opt/anaconda3/envs/mlenv2022/lib/python3.7/site-packages/ipykernel_launcher.py:67: RuntimeWarning: divide by zero encountered in log\n",
      "/Users/eliasmann/opt/anaconda3/envs/mlenv2022/lib/python3.7/site-packages/ipykernel_launcher.py:67: RuntimeWarning: invalid value encountered in multiply\n",
      "/Users/eliasmann/opt/anaconda3/envs/mlenv2022/lib/python3.7/site-packages/numpy/core/_methods.py:179: RuntimeWarning: overflow encountered in reduce\n",
      "  ret = umr_sum(arr, axis, dtype, out, keepdims, where=where)\n"
     ]
    },
    {
     "data": {
      "text/plain": [
       "<__main__.TwoLayerPerceptronBase at 0x7fa8fd4959d0>"
      ]
     },
     "execution_count": 34,
     "metadata": {},
     "output_type": "execute_result"
    }
   ],
   "source": [
    "# Scale the X_train and X_test data\n",
    "scaler = preprocessing.StandardScaler().fit(X_train)\n",
    "X_train_scl = scaler.transform(X_train)\n",
    "X_test_scl = scaler.transform(X_test)\n",
    "\n",
    "model2 = TwoLayerPerceptronBase(epochs=100)\n",
    "model2.fit(X_train_scl,y_train,print_progress=1,XY_test=(X_test_scl,y_test))"
   ]
  },
  {
   "cell_type": "code",
   "execution_count": 35,
   "metadata": {},
   "outputs": [
    {
     "name": "stdout",
     "output_type": "stream",
     "text": [
      "[0 2 3]\n"
     ]
    },
    {
     "ename": "ValueError",
     "evalue": "Classification metrics can't handle a mix of continuous-multioutput and multiclass targets",
     "output_type": "error",
     "traceback": [
      "\u001b[0;31m---------------------------------------------------------------------------\u001b[0m",
      "\u001b[0;31mValueError\u001b[0m                                Traceback (most recent call last)",
      "\u001b[0;32m/var/folders/ff/x688rcys16d34fpwt6zr8qcc0000gn/T/ipykernel_48216/1912611976.py\u001b[0m in \u001b[0;36m<module>\u001b[0;34m\u001b[0m\n\u001b[1;32m      2\u001b[0m \u001b[0;31m# number of unique items in y_pred\u001b[0m\u001b[0;34m\u001b[0m\u001b[0;34m\u001b[0m\u001b[0;34m\u001b[0m\u001b[0m\n\u001b[1;32m      3\u001b[0m \u001b[0mprint\u001b[0m\u001b[0;34m(\u001b[0m\u001b[0mnp\u001b[0m\u001b[0;34m.\u001b[0m\u001b[0munique\u001b[0m\u001b[0;34m(\u001b[0m\u001b[0my_pred_scl\u001b[0m\u001b[0;34m)\u001b[0m\u001b[0;34m)\u001b[0m\u001b[0;34m\u001b[0m\u001b[0;34m\u001b[0m\u001b[0m\n\u001b[0;32m----> 4\u001b[0;31m \u001b[0mprint\u001b[0m\u001b[0;34m(\u001b[0m\u001b[0;34m'Test accuracy: %.2f%%'\u001b[0m \u001b[0;34m%\u001b[0m \u001b[0;34m(\u001b[0m\u001b[0maccuracy_score\u001b[0m\u001b[0;34m(\u001b[0m\u001b[0mX_test_scl\u001b[0m\u001b[0;34m,\u001b[0m \u001b[0my_pred_scl\u001b[0m\u001b[0;34m)\u001b[0m\u001b[0;34m*\u001b[0m\u001b[0;36m100\u001b[0m\u001b[0;34m)\u001b[0m\u001b[0;34m)\u001b[0m\u001b[0;34m\u001b[0m\u001b[0;34m\u001b[0m\u001b[0m\n\u001b[0m",
      "\u001b[0;32m~/opt/anaconda3/envs/mlenv2022/lib/python3.7/site-packages/sklearn/metrics/_classification.py\u001b[0m in \u001b[0;36maccuracy_score\u001b[0;34m(y_true, y_pred, normalize, sample_weight)\u001b[0m\n\u001b[1;32m    209\u001b[0m \u001b[0;34m\u001b[0m\u001b[0m\n\u001b[1;32m    210\u001b[0m     \u001b[0;31m# Compute accuracy for each possible representation\u001b[0m\u001b[0;34m\u001b[0m\u001b[0;34m\u001b[0m\u001b[0;34m\u001b[0m\u001b[0m\n\u001b[0;32m--> 211\u001b[0;31m     \u001b[0my_type\u001b[0m\u001b[0;34m,\u001b[0m \u001b[0my_true\u001b[0m\u001b[0;34m,\u001b[0m \u001b[0my_pred\u001b[0m \u001b[0;34m=\u001b[0m \u001b[0m_check_targets\u001b[0m\u001b[0;34m(\u001b[0m\u001b[0my_true\u001b[0m\u001b[0;34m,\u001b[0m \u001b[0my_pred\u001b[0m\u001b[0;34m)\u001b[0m\u001b[0;34m\u001b[0m\u001b[0;34m\u001b[0m\u001b[0m\n\u001b[0m\u001b[1;32m    212\u001b[0m     \u001b[0mcheck_consistent_length\u001b[0m\u001b[0;34m(\u001b[0m\u001b[0my_true\u001b[0m\u001b[0;34m,\u001b[0m \u001b[0my_pred\u001b[0m\u001b[0;34m,\u001b[0m \u001b[0msample_weight\u001b[0m\u001b[0;34m)\u001b[0m\u001b[0;34m\u001b[0m\u001b[0;34m\u001b[0m\u001b[0m\n\u001b[1;32m    213\u001b[0m     \u001b[0;32mif\u001b[0m \u001b[0my_type\u001b[0m\u001b[0;34m.\u001b[0m\u001b[0mstartswith\u001b[0m\u001b[0;34m(\u001b[0m\u001b[0;34m\"multilabel\"\u001b[0m\u001b[0;34m)\u001b[0m\u001b[0;34m:\u001b[0m\u001b[0;34m\u001b[0m\u001b[0;34m\u001b[0m\u001b[0m\n",
      "\u001b[0;32m~/opt/anaconda3/envs/mlenv2022/lib/python3.7/site-packages/sklearn/metrics/_classification.py\u001b[0m in \u001b[0;36m_check_targets\u001b[0;34m(y_true, y_pred)\u001b[0m\n\u001b[1;32m     93\u001b[0m         raise ValueError(\n\u001b[1;32m     94\u001b[0m             \"Classification metrics can't handle a mix of {0} and {1} targets\".format(\n\u001b[0;32m---> 95\u001b[0;31m                 \u001b[0mtype_true\u001b[0m\u001b[0;34m,\u001b[0m \u001b[0mtype_pred\u001b[0m\u001b[0;34m\u001b[0m\u001b[0;34m\u001b[0m\u001b[0m\n\u001b[0m\u001b[1;32m     96\u001b[0m             )\n\u001b[1;32m     97\u001b[0m         )\n",
      "\u001b[0;31mValueError\u001b[0m: Classification metrics can't handle a mix of continuous-multioutput and multiclass targets"
     ]
    }
   ],
   "source": [
    "y_pred_scl = model2.predict(X_test_scl)\n",
    "# number of unique items in y_pred\n",
    "print(np.unique(y_pred_scl))\n",
    "print('Test accuracy: %.2f%%' % (accuracy_score(X_test_scl, y_pred_scl)*100))"
   ]
  },
  {
   "cell_type": "code",
   "execution_count": null,
   "metadata": {},
   "outputs": [],
   "source": [
    "cost_avgs = [np.mean(x) for x in model1.cost_]\n",
    "\n",
    "plt.plot(range(len(cost_avgs)), cost_avgs, color='red')\n",
    "plt.ylabel('Cost')\n",
    "plt.xlabel('Epochs')\n",
    "plt.tight_layout()\n",
    "plt.show()"
   ]
  },
  {
   "cell_type": "markdown",
   "metadata": {
    "pycharm": {
     "name": "#%% md\n"
    }
   },
   "source": [
    "## Modeling"
   ]
  },
  {
   "cell_type": "code",
   "execution_count": null,
   "metadata": {},
   "outputs": [],
   "source": []
  },
  {
   "cell_type": "markdown",
   "metadata": {
    "pycharm": {
     "name": "#%% md\n"
    }
   },
   "source": [
    "## Exceptional Work"
   ]
  },
  {
   "cell_type": "markdown",
   "metadata": {},
   "source": []
  }
 ],
 "metadata": {
  "kernelspec": {
   "display_name": "Python 3.8.3 ('base')",
   "language": "python",
   "name": "python3"
  },
  "language_info": {
   "codemirror_mode": {
    "name": "ipython",
    "version": 3
   },
   "file_extension": ".py",
   "mimetype": "text/x-python",
   "name": "python",
   "nbconvert_exporter": "python",
   "pygments_lexer": "ipython3",
   "version": "3.8.3"
  },
  "vscode": {
   "interpreter": {
    "hash": "5cf3adf616e33df8fa5658772e64b4f0f2254473e5d618a082e9a94e9d74aa87"
   }
  }
 },
 "nbformat": 4,
 "nbformat_minor": 1
}
